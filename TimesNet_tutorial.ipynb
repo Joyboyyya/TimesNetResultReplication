{
  "cells": [
    {
      "cell_type": "markdown",
      "metadata": {
        "id": "view-in-github",
        "colab_type": "text"
      },
      "source": [
        "<a href=\"https://colab.research.google.com/github/Joyboyyya/TimesNetResultReplication/blob/main/TimesNet_tutorial.ipynb\" target=\"_parent\"><img src=\"https://colab.research.google.com/assets/colab-badge.svg\" alt=\"Open In Colab\"/></a>"
      ]
    },
    {
      "cell_type": "markdown",
      "metadata": {
        "id": "FnrbY-9g9D6I"
      },
      "source": [
        "# TimesNet Tutorial\n",
        "**Set-up instructions:** this notebook give a tutorial on the learning task supported by `TimesNet`.\n",
        "\n",
        "`TimesNet` can support basically 5 tasks, which are respectively long-term forecast, short-term forecast, imputation, anomaly detection, classification."
      ]
    },
    {
      "cell_type": "markdown",
      "metadata": {
        "id": "avTFtqqm9D6K"
      },
      "source": [
        "### 1. Install Python 3.8. For convenience, execute the following command."
      ]
    },
    {
      "cell_type": "code",
      "source": [
        "import torch\n",
        "\n",
        "# Use a GPU if available\n",
        "device = torch.device(\"cuda\" if torch.cuda.is_available() else \"cpu\")\n",
        "\n"
      ],
      "metadata": {
        "id": "xX8Kkugonm8H"
      },
      "execution_count": 1,
      "outputs": []
    },
    {
      "cell_type": "code",
      "source": [
        "torch.cuda.is_available()"
      ],
      "metadata": {
        "colab": {
          "base_uri": "https://localhost:8080/"
        },
        "id": "JBf57VVu9QpZ",
        "outputId": "a764ea00-61c7-4deb-b9ec-9d2864b5e134"
      },
      "execution_count": 2,
      "outputs": [
        {
          "output_type": "execute_result",
          "data": {
            "text/plain": [
              "True"
            ]
          },
          "metadata": {},
          "execution_count": 2
        }
      ]
    },
    {
      "cell_type": "code",
      "source": [
        "!git clone https://github.com/thuml/Time-Series-Library.git"
      ],
      "metadata": {
        "colab": {
          "base_uri": "https://localhost:8080/"
        },
        "id": "Xe6qurtt9YIr",
        "outputId": "1d8acabb-e566-40f5-ef40-eabd8a10bf37"
      },
      "execution_count": 3,
      "outputs": [
        {
          "output_type": "stream",
          "name": "stdout",
          "text": [
            "Cloning into 'Time-Series-Library'...\n",
            "remote: Enumerating objects: 1272, done.\u001b[K\n",
            "remote: Counting objects: 100% (811/811), done.\u001b[K\n",
            "remote: Compressing objects: 100% (121/121), done.\u001b[K\n",
            "remote: Total 1272 (delta 716), reused 702 (delta 690), pack-reused 461\u001b[K\n",
            "Receiving objects: 100% (1272/1272), 78.02 MiB | 27.09 MiB/s, done.\n",
            "Resolving deltas: 100% (910/910), done.\n"
          ]
        }
      ]
    },
    {
      "cell_type": "code",
      "source": [
        "import sys\n",
        "sys.path.append('/content/Time-Series-Library')"
      ],
      "metadata": {
        "id": "MfgEoXBh-VBV"
      },
      "execution_count": 4,
      "outputs": []
    },
    {
      "cell_type": "code",
      "source": [
        "%cd /content/Time-Series-Library"
      ],
      "metadata": {
        "colab": {
          "base_uri": "https://localhost:8080/"
        },
        "id": "F4bZzGGSApbj",
        "outputId": "dfb5f0f6-8b24-4b67-d6d5-6f48d89cfb68"
      },
      "execution_count": 5,
      "outputs": [
        {
          "output_type": "stream",
          "name": "stdout",
          "text": [
            "/content/Time-Series-Library\n"
          ]
        }
      ]
    },
    {
      "cell_type": "code",
      "source": [
        "%ls"
      ],
      "metadata": {
        "colab": {
          "base_uri": "https://localhost:8080/"
        },
        "id": "NFY4oSwuAsck",
        "outputId": "bb51e38f-a607-4e53-afae-6a246a37b4e9"
      },
      "execution_count": 6,
      "outputs": [
        {
          "output_type": "stream",
          "name": "stdout",
          "text": [
            "\u001b[0m\u001b[01;34mdata_provider\u001b[0m/  \u001b[01;34mlayers\u001b[0m/  \u001b[01;34mmodels\u001b[0m/  README.md         run.py    \u001b[01;34mtutorial\u001b[0m/\n",
            "\u001b[01;34mexp\u001b[0m/            LICENSE  \u001b[01;34mpic\u001b[0m/     requirements.txt  \u001b[01;34mscripts\u001b[0m/  \u001b[01;34mutils\u001b[0m/\n"
          ]
        }
      ]
    },
    {
      "cell_type": "code",
      "execution_count": 7,
      "metadata": {
        "vscode": {
          "languageId": "shellscript"
        },
        "colab": {
          "base_uri": "https://localhost:8080/"
        },
        "id": "FN2CJt_g9D6K",
        "outputId": "0bcd9b42-6305-44c2-8abb-826fbf52a9ae"
      },
      "outputs": [
        {
          "output_type": "stream",
          "name": "stdout",
          "text": [
            "Collecting einops==0.4.0 (from -r requirements.txt (line 1))\n",
            "  Downloading einops-0.4.0-py3-none-any.whl (28 kB)\n",
            "Collecting matplotlib==3.7.0 (from -r requirements.txt (line 2))\n",
            "  Downloading matplotlib-3.7.0-cp310-cp310-manylinux_2_17_x86_64.manylinux2014_x86_64.whl (11.6 MB)\n",
            "\u001b[2K     \u001b[90m━━━━━━━━━━━━━━━━━━━━━━━━━━━━━━━━━━━━━━━━\u001b[0m \u001b[32m11.6/11.6 MB\u001b[0m \u001b[31m29.7 MB/s\u001b[0m eta \u001b[36m0:00:00\u001b[0m\n",
            "\u001b[?25hCollecting numpy==1.23.5 (from -r requirements.txt (line 3))\n",
            "  Downloading numpy-1.23.5-cp310-cp310-manylinux_2_17_x86_64.manylinux2014_x86_64.whl (17.1 MB)\n",
            "\u001b[2K     \u001b[90m━━━━━━━━━━━━━━━━━━━━━━━━━━━━━━━━━━━━━━━━\u001b[0m \u001b[32m17.1/17.1 MB\u001b[0m \u001b[31m62.4 MB/s\u001b[0m eta \u001b[36m0:00:00\u001b[0m\n",
            "\u001b[?25hRequirement already satisfied: pandas==1.5.3 in /usr/local/lib/python3.10/dist-packages (from -r requirements.txt (line 4)) (1.5.3)\n",
            "Collecting patool==1.12 (from -r requirements.txt (line 5))\n",
            "  Downloading patool-1.12-py2.py3-none-any.whl (77 kB)\n",
            "\u001b[2K     \u001b[90m━━━━━━━━━━━━━━━━━━━━━━━━━━━━━━━━━━━━━━━━\u001b[0m \u001b[32m77.5/77.5 kB\u001b[0m \u001b[31m11.2 MB/s\u001b[0m eta \u001b[36m0:00:00\u001b[0m\n",
            "\u001b[?25hCollecting reformer-pytorch==1.4.4 (from -r requirements.txt (line 6))\n",
            "  Downloading reformer_pytorch-1.4.4-py3-none-any.whl (16 kB)\n",
            "Requirement already satisfied: scikit-learn==1.2.2 in /usr/local/lib/python3.10/dist-packages (from -r requirements.txt (line 7)) (1.2.2)\n",
            "Collecting scipy==1.10.1 (from -r requirements.txt (line 8))\n",
            "  Downloading scipy-1.10.1-cp310-cp310-manylinux_2_17_x86_64.manylinux2014_x86_64.whl (34.4 MB)\n",
            "\u001b[2K     \u001b[90m━━━━━━━━━━━━━━━━━━━━━━━━━━━━━━━━━━━━━━━━\u001b[0m \u001b[32m34.4/34.4 MB\u001b[0m \u001b[31m14.1 MB/s\u001b[0m eta \u001b[36m0:00:00\u001b[0m\n",
            "\u001b[?25hCollecting sktime==0.16.1 (from -r requirements.txt (line 9))\n",
            "  Downloading sktime-0.16.1-py3-none-any.whl (16.0 MB)\n",
            "\u001b[2K     \u001b[90m━━━━━━━━━━━━━━━━━━━━━━━━━━━━━━━━━━━━━━━━\u001b[0m \u001b[32m16.0/16.0 MB\u001b[0m \u001b[31m82.6 MB/s\u001b[0m eta \u001b[36m0:00:00\u001b[0m\n",
            "\u001b[?25hCollecting sympy==1.11.1 (from -r requirements.txt (line 10))\n",
            "  Downloading sympy-1.11.1-py3-none-any.whl (6.5 MB)\n",
            "\u001b[2K     \u001b[90m━━━━━━━━━━━━━━━━━━━━━━━━━━━━━━━━━━━━━━━━\u001b[0m \u001b[32m6.5/6.5 MB\u001b[0m \u001b[31m107.7 MB/s\u001b[0m eta \u001b[36m0:00:00\u001b[0m\n",
            "\u001b[?25h\u001b[31mERROR: Ignored the following versions that require a different python version: 0.10.0 Requires-Python >=3.7,<3.10; 0.10.1 Requires-Python >=3.7,<3.10; 0.11.0 Requires-Python >=3.7,<3.10; 0.11.1 Requires-Python >=3.7,<3.10; 0.11.2 Requires-Python >=3.7,<3.10; 0.11.3 Requires-Python >=3.7,<3.10; 0.11.4 Requires-Python >=3.7,<3.10; 0.12.0 Requires-Python >=3.7,<3.10; 0.12.1 Requires-Python >=3.7,<3.10; 1.6.2 Requires-Python >=3.7,<3.10; 1.6.3 Requires-Python >=3.7,<3.10; 1.7.0 Requires-Python >=3.7,<3.10; 1.7.1 Requires-Python >=3.7,<3.10\u001b[0m\u001b[31m\n",
            "\u001b[0m\u001b[31mERROR: Could not find a version that satisfies the requirement torch==1.7.1 (from versions: 1.11.0, 1.12.0, 1.12.1, 1.13.0, 1.13.1, 2.0.0, 2.0.1, 2.1.0, 2.1.1, 2.1.2, 2.2.0, 2.2.1, 2.2.2)\u001b[0m\u001b[31m\n",
            "\u001b[0m\u001b[31mERROR: No matching distribution found for torch==1.7.1\u001b[0m\u001b[31m\n",
            "\u001b[0m"
          ]
        }
      ],
      "source": [
        "pip install -r requirements.txt"
      ]
    },
    {
      "cell_type": "markdown",
      "metadata": {
        "id": "PVo3MBMD9D6L"
      },
      "source": [
        "### 2. Package Import"
      ]
    },
    {
      "cell_type": "code",
      "source": [
        "!ls"
      ],
      "metadata": {
        "colab": {
          "base_uri": "https://localhost:8080/"
        },
        "id": "puABNCct-c0g",
        "outputId": "eb017278-9eb0-485e-fbfb-8dd601761af6"
      },
      "execution_count": 8,
      "outputs": [
        {
          "output_type": "stream",
          "name": "stdout",
          "text": [
            "data_provider  layers\tmodels\tREADME.md\t  run.py   tutorial\n",
            "exp\t       LICENSE\tpic\trequirements.txt  scripts  utils\n"
          ]
        }
      ]
    },
    {
      "cell_type": "code",
      "execution_count": 9,
      "metadata": {
        "id": "KlfHkcdP9D6L"
      },
      "outputs": [],
      "source": [
        "import torch\n",
        "import torch.nn as nn\n",
        "import torch.nn.functional as F\n",
        "import torch.fft\n",
        "from layers.Embed import DataEmbedding\n",
        "from layers.Conv_Blocks import Inception_Block_V1\n",
        "            #convolution block used for convoluting the 2D time data, changeable"
      ]
    },
    {
      "cell_type": "markdown",
      "metadata": {
        "id": "oovIZ1Kb9D6L"
      },
      "source": [
        "### 3. TimesBlock Construction\n",
        " The core idea of `TimesNet` lies in the construction of `TimesBlock`, which generally gets the base frequencies by implementing FFT on the data, and then reshapes the times series to 2D variation respectively from the main base frequencies, followed by a 2D convolution whose outputs are reshaped back and added with weight to form the final output.\n",
        "\n",
        " In the following section, we will have a detailed view on `TimesBlock`.\n",
        "\n",
        " TimesBlock has 2 members."
      ]
    },
    {
      "cell_type": "code",
      "execution_count": 10,
      "metadata": {
        "id": "t3Ic55Hy9D6M"
      },
      "outputs": [],
      "source": [
        "class TimesBlock(nn.Module):\n",
        "    def __init__(self, configs):\n",
        "        ...\n",
        "\n",
        "    def forward(self, x):\n",
        "        ..."
      ]
    },
    {
      "cell_type": "markdown",
      "metadata": {
        "id": "K1gTzD5Q9D6M"
      },
      "source": [
        "First, let's focus on ```__init__(self, configs):```"
      ]
    },
    {
      "cell_type": "code",
      "execution_count": 11,
      "metadata": {
        "id": "Oj5S-QCb9D6M"
      },
      "outputs": [],
      "source": [
        "def __init__(self, configs):    ##configs is the configuration defined for TimesBlock\n",
        "    super(TimesBlock, self).__init__()\n",
        "    self.seq_len = configs.seq_len   ##sequence length\n",
        "    self.pred_len = configs.pred_len ##prediction length\n",
        "    self.k = configs.top_k    ##k denotes how many top frequencies are\n",
        "                                                            #taken into consideration\n",
        "    # parameter-efficient design\n",
        "    self.conv = nn.Sequential(\n",
        "        Inception_Block_V1(configs.d_model, configs.d_ff,\n",
        "                           num_kernels=configs.num_kernels),\n",
        "        nn.GELU(),\n",
        "        Inception_Block_V1(configs.d_ff, configs.d_model,\n",
        "                           num_kernels=configs.num_kernels)\n",
        "    )"
      ]
    },
    {
      "cell_type": "markdown",
      "metadata": {
        "id": "fsB2fJNB9D6N"
      },
      "source": [
        "Then, have a look at ```forward(self, x)```"
      ]
    },
    {
      "cell_type": "code",
      "execution_count": 12,
      "metadata": {
        "id": "IxHT7XMd9D6N"
      },
      "outputs": [],
      "source": [
        "def forward(self, x):\n",
        "        B, T, N = x.size()\n",
        "            #B: batch size  T: length of time series  N:number of features\n",
        "        period_list, period_weight = FFT_for_Period(x, self.k)\n",
        "            #FFT_for_Period() will be shown later. Here, period_list([top_k]) denotes\n",
        "            #the top_k-significant period and period_weight([B, top_k]) denotes its weight(amplitude)\n",
        "\n",
        "        res = []\n",
        "        for i in range(self.k):\n",
        "            period = period_list[i]\n",
        "\n",
        "            # padding : to form a 2D map, we need total length of the sequence, plus the part\n",
        "            # to be predicted, to be divisible by the period, so padding is needed\n",
        "            if (self.seq_len + self.pred_len) % period != 0:\n",
        "                length = (\n",
        "                                 ((self.seq_len + self.pred_len) // period) + 1) * period\n",
        "                padding = torch.zeros([x.shape[0], (length - (self.seq_len + self.pred_len)), x.shape[2]]).to(x.device)\n",
        "                out = torch.cat([x, padding], dim=1)\n",
        "            else:\n",
        "                length = (self.seq_len + self.pred_len)\n",
        "                out = x\n",
        "\n",
        "            # reshape: we need each channel of a single piece of data to be a 2D variable,\n",
        "            # Also, in order to implement the 2D conv later on, we need to adjust the 2 dimensions\n",
        "            # to be convolutioned to the last 2 dimensions, by calling the permute() func.\n",
        "            # Whereafter, to make the tensor contiguous in memory, call contiguous()\n",
        "            out = out.reshape(B, length // period, period,\n",
        "                              N).permute(0, 3, 1, 2).contiguous()\n",
        "\n",
        "            #2D convolution to grap the intra- and inter- period information\n",
        "            out = self.conv(out)\n",
        "\n",
        "            # reshape back, similar to reshape\n",
        "            out = out.permute(0, 2, 3, 1).reshape(B, -1, N)\n",
        "\n",
        "            #truncating down the padded part of the output and put it to result\n",
        "            res.append(out[:, :(self.seq_len + self.pred_len), :])\n",
        "        res = torch.stack(res, dim=-1) #res: 4D [B, length , N, top_k]\n",
        "\n",
        "        # adaptive aggregation\n",
        "        #First, use softmax to get the normalized weight from amplitudes --> 2D [B,top_k]\n",
        "        period_weight = F.softmax(period_weight, dim=1)\n",
        "\n",
        "        #after two unsqueeze(1),shape -> [B,1,1,top_k],so repeat the weight to fit the shape of res\n",
        "        period_weight = period_weight.unsqueeze(\n",
        "            1).unsqueeze(1).repeat(1, T, N, 1)\n",
        "\n",
        "        #add by weight the top_k periods' result, getting the result of this TimesBlock\n",
        "        res = torch.sum(res * period_weight, -1)\n",
        "\n",
        "        # residual connection\n",
        "        res = res + x\n",
        "        return res"
      ]
    },
    {
      "cell_type": "markdown",
      "metadata": {
        "id": "KruFWW3p9D6N"
      },
      "source": [
        "The ```FFT_for_Period``` above is given by:"
      ]
    },
    {
      "cell_type": "code",
      "execution_count": 13,
      "metadata": {
        "id": "5LlKum6M9D6N"
      },
      "outputs": [],
      "source": [
        "def FFT_for_Period(x, k=2):\n",
        "    # xf shape [B, T, C], denoting the amplitude of frequency(T) given the datapiece at B,N\n",
        "    xf = torch.fft.rfft(x, dim=1)\n",
        "\n",
        "    # find period by amplitudes: here we assume that the periodic features are basically constant\n",
        "    # in different batch and channel, so we mean out these two dimensions, getting a list frequency_list with shape[T]\n",
        "    # each element at pos t of frequency_list denotes the overall amplitude at frequency (t)\n",
        "    frequency_list = abs(xf).mean(0).mean(-1)\n",
        "    frequency_list[0] = 0\n",
        "\n",
        "    #by torch.topk(),we can get the biggest k elements of frequency_list, and its positions(i.e. the k-main frequencies in top_list)\n",
        "    _, top_list = torch.topk(frequency_list, k)\n",
        "\n",
        "    #Returns a new Tensor 'top_list', detached from the current graph.\n",
        "    #The result will never require gradient.Convert to a numpy instance\n",
        "    top_list = top_list.detach().cpu().numpy()\n",
        "\n",
        "    #period:a list of shape [top_k], recording the periods of mean frequencies respectively\n",
        "    period = x.shape[1] // top_list\n",
        "\n",
        "    #Here,the 2nd item returned has a shape of [B, top_k],representing the biggest top_k amplitudes\n",
        "    # for each piece of data, with N features being averaged.\n",
        "    return period, abs(xf).mean(-1)[:, top_list]"
      ]
    },
    {
      "cell_type": "markdown",
      "metadata": {
        "id": "y6gfl-s-9D6N"
      },
      "source": [
        "To make it clearer, please see the figures below.\n",
        "\n",
        "![FFT demonstrator](./fft.png)\n",
        "\n",
        "![2D Conv demonstrator](./conv.png)"
      ]
    },
    {
      "cell_type": "markdown",
      "metadata": {
        "id": "B-KSdQRD9D6O"
      },
      "source": [
        "For more details, please read the our paper\n",
        "(link: https://openreview.net/pdf?id=ju_Uqw384Oq)"
      ]
    },
    {
      "cell_type": "markdown",
      "metadata": {
        "id": "S-_XyhMF9D6O"
      },
      "source": [
        "### 4. TimesNet\n",
        "\n",
        "So far we've got `TimesBlock`, which is excel at retrieving  intra- and inter- period temporal information. We become capable of building a `TimesNet`.  `TimesNet` is proficient in multitasks including short- and long-term forecasting, imputation, classification, and anomaly detection.\n",
        "\n",
        "In this section, we'll have a detailed overview on how `TimesNet` gains its power in these tasks."
      ]
    },
    {
      "cell_type": "code",
      "execution_count": 14,
      "metadata": {
        "id": "mFrqY6A-9D6O"
      },
      "outputs": [],
      "source": [
        "class Model(nn.Module):\n",
        "    def __init__(self, configs):\n",
        "        ...\n",
        "\n",
        "    def forecast(self, x_enc, x_mark_enc, x_dec, x_mark_dec):\n",
        "        ...\n",
        "\n",
        "    def imputation(self, x_enc, x_mark_enc, x_dec, x_mark_dec, mask):\n",
        "        ...\n",
        "\n",
        "    def anomaly_detection(self, x_enc):\n",
        "        ...\n",
        "\n",
        "    def classification(self, x_enc, x_mark_enc):\n",
        "        ...\n",
        "\n",
        "    def forward(self, x_enc, x_mark_enc, x_dec, x_mark_dec, mask=None):\n",
        "        ..."
      ]
    },
    {
      "cell_type": "markdown",
      "metadata": {
        "id": "0HzgFosn9D6O"
      },
      "source": [
        "First of all, let's focus on ```__init__(self, configs):```"
      ]
    },
    {
      "cell_type": "code",
      "execution_count": 15,
      "metadata": {
        "id": "jLJlMZ6t9D6O"
      },
      "outputs": [],
      "source": [
        "def __init__(self, configs):\n",
        "    super(Model, self).__init__()\n",
        "    #params init\n",
        "    self.configs = configs\n",
        "    self.task_name = configs.task_name\n",
        "    self.seq_len = configs.seq_len\n",
        "    self.label_len = configs.label_len\n",
        "    self.pred_len = configs.pred_len\n",
        "\n",
        "    #stack TimesBlock for e_layers times to form the main part of TimesNet, named model\n",
        "    self.model = nn.ModuleList([TimesBlock(configs)\n",
        "                                for _ in range(configs.e_layers)])\n",
        "\n",
        "    #embedding & normalization\n",
        "    # enc_in is the encoder input size, the number of features for a piece of data\n",
        "    # d_model is the dimension of embedding\n",
        "    self.enc_embedding = DataEmbedding(configs.enc_in, configs.d_model, configs.embed, configs.freq,\n",
        "                                       configs.dropout)\n",
        "    self.layer = configs.e_layers # num of encoder layers\n",
        "    self.layer_norm = nn.LayerNorm(configs.d_model)\n",
        "\n",
        "    #define the some layers for different tasks\n",
        "    if self.task_name == 'long_term_forecast' or self.task_name == 'short_term_forecast':\n",
        "        self.predict_linear = nn.Linear(\n",
        "            self.seq_len, self.pred_len + self.seq_len)\n",
        "        self.projection = nn.Linear(\n",
        "            configs.d_model, configs.c_out, bias=True)\n",
        "    if self.task_name == 'imputation' or self.task_name == 'anomaly_detection':\n",
        "        self.projection = nn.Linear(\n",
        "            configs.d_model, configs.c_out, bias=True)\n",
        "    if self.task_name == 'classification':\n",
        "        self.act = F.gelu\n",
        "        self.dropout = nn.Dropout(configs.dropout)\n",
        "        self.projection = nn.Linear(\n",
        "            configs.d_model * configs.seq_len, configs.num_class)"
      ]
    },
    {
      "cell_type": "markdown",
      "metadata": {
        "id": "O7aOy3YM9D6O"
      },
      "source": [
        "#### 4.1 Forecast\n",
        "\n",
        "The basic idea of forecasting is to lengthen the known sequence to (seq_len+pred_len), which is the total length after forecasting. Then by several TimesBlock layers together with layer normalization, some underlying intra- and inter- period information is represented. With these information, we can project it to the output space. Whereafter by denorm ( if Non-stationary Transformer) we get the final output."
      ]
    },
    {
      "cell_type": "code",
      "execution_count": 16,
      "metadata": {
        "id": "N4BqeZsI9D6O"
      },
      "outputs": [],
      "source": [
        "def forecast(self, x_enc, x_mark_enc, x_dec, x_mark_dec):\n",
        "    # Normalization from Non-stationary Transformer at temporal dimension\n",
        "    means = x_enc.mean(1, keepdim=True).detach() #[B,T]\n",
        "    x_enc = x_enc - means\n",
        "    stdev = torch.sqrt(\n",
        "        torch.var(x_enc, dim=1, keepdim=True, unbiased=False) + 1e-5)\n",
        "    x_enc /= stdev\n",
        "\n",
        "    # embedding: projecting a number to a C-channel vector\n",
        "    enc_out = self.enc_embedding(x_enc, x_mark_enc)  # [B,T,C] C is d_model\n",
        "    enc_out = self.predict_linear(enc_out.permute(0, 2, 1)).permute(\n",
        "        0, 2, 1)  # align temporal dimension [B,pred_len+seq_len,C]\n",
        "\n",
        "    # TimesNet: pass through TimesBlock for self.layer times each with layer normalization\n",
        "    for i in range(self.layer):\n",
        "        enc_out = self.layer_norm(self.model[i](enc_out))\n",
        "\n",
        "    # project back  #[B,T,d_model]-->[B,T,c_out]\n",
        "    dec_out = self.projection(enc_out)\n",
        "\n",
        "    # De-Normalization from Non-stationary Transformer\n",
        "    dec_out = dec_out * \\\n",
        "              (stdev[:, 0, :].unsqueeze(1).repeat(\n",
        "                  1, self.pred_len + self.seq_len, 1)) #lengthen the stdev to fit the dec_out\n",
        "    dec_out = dec_out + \\\n",
        "              (means[:, 0, :].unsqueeze(1).repeat(\n",
        "                  1, self.pred_len + self.seq_len, 1)) #lengthen the mean to fit the dec_out\n",
        "    return dec_out"
      ]
    },
    {
      "cell_type": "markdown",
      "metadata": {
        "id": "TuD0gxXb9D6P"
      },
      "source": [
        "#### 4.2 Imputation\n",
        "\n",
        "Imputation is a task aiming at completing some missing value in the time series, so in some degree it's similar to forecast. We can still use the similar step to cope with it."
      ]
    },
    {
      "cell_type": "code",
      "execution_count": 17,
      "metadata": {
        "id": "H1sAqH_z9D6P"
      },
      "outputs": [],
      "source": [
        "def imputation(self, x_enc, x_mark_enc, x_dec, x_mark_dec, mask):\n",
        "    # Normalization from Non-stationary Transformer\n",
        "    means = torch.sum(x_enc, dim=1) / torch.sum(mask == 1, dim=1)\n",
        "    means = means.unsqueeze(1).detach()\n",
        "    x_enc = x_enc - means\n",
        "    x_enc = x_enc.masked_fill(mask == 0, 0)\n",
        "    stdev = torch.sqrt(torch.sum(x_enc * x_enc, dim=1) /\n",
        "                       torch.sum(mask == 1, dim=1) + 1e-5)\n",
        "    stdev = stdev.unsqueeze(1).detach()\n",
        "    x_enc /= stdev\n",
        "\n",
        "    # embedding\n",
        "    enc_out = self.enc_embedding(x_enc, x_mark_enc)  # [B,T,C]\n",
        "    # TimesNet\n",
        "    for i in range(self.layer):\n",
        "        enc_out = self.layer_norm(self.model[i](enc_out))\n",
        "    # project back\n",
        "    dec_out = self.projection(enc_out)\n",
        "\n",
        "    # De-Normalization from Non-stationary Transformer\n",
        "    dec_out = dec_out * \\\n",
        "              (stdev[:, 0, :].unsqueeze(1).repeat(\n",
        "                  1, self.pred_len + self.seq_len, 1))\n",
        "    dec_out = dec_out + \\\n",
        "              (means[:, 0, :].unsqueeze(1).repeat(\n",
        "                  1, self.pred_len + self.seq_len, 1))\n",
        "    return dec_out"
      ]
    },
    {
      "cell_type": "markdown",
      "metadata": {
        "id": "59UG4nQ89D6P"
      },
      "source": [
        "#### 4.3 Anomaly Detection\n",
        "\n",
        "Similar to Imputation."
      ]
    },
    {
      "cell_type": "code",
      "execution_count": 18,
      "metadata": {
        "id": "hn2f8K7X9D6P"
      },
      "outputs": [],
      "source": [
        "def anomaly_detection(self, x_enc):\n",
        "    # Normalization from Non-stationary Transformer\n",
        "    means = x_enc.mean(1, keepdim=True).detach()\n",
        "    x_enc = x_enc - means\n",
        "    stdev = torch.sqrt(\n",
        "        torch.var(x_enc, dim=1, keepdim=True, unbiased=False) + 1e-5)\n",
        "    x_enc /= stdev\n",
        "    # embedding\n",
        "    enc_out = self.enc_embedding(x_enc, None)  # [B,T,C]\n",
        "    # TimesNet\n",
        "    for i in range(self.layer):\n",
        "        enc_out = self.layer_norm(self.model[i](enc_out))\n",
        "    # project back\n",
        "    dec_out = self.projection(enc_out)\n",
        "    # De-Normalization from Non-stationary Transformer\n",
        "    dec_out = dec_out * \\\n",
        "              (stdev[:, 0, :].unsqueeze(1).repeat(\n",
        "                  1, self.pred_len + self.seq_len, 1))\n",
        "    dec_out = dec_out + \\\n",
        "              (means[:, 0, :].unsqueeze(1).repeat(\n",
        "                  1, self.pred_len + self.seq_len, 1))\n",
        "    return dec_out"
      ]
    },
    {
      "cell_type": "markdown",
      "metadata": {
        "id": "VY1SOISU9D6P"
      },
      "source": [
        "#### 4.4 Classification"
      ]
    },
    {
      "cell_type": "code",
      "execution_count": 19,
      "metadata": {
        "id": "9mg5qoBq9D6P"
      },
      "outputs": [],
      "source": [
        "def classification(self, x_enc, x_mark_enc):\n",
        "        # embedding\n",
        "        enc_out = self.enc_embedding(x_enc, None)  # [B,T,C]\n",
        "        # TimesNet\n",
        "        for i in range(self.layer):\n",
        "            enc_out = self.layer_norm(self.model[i](enc_out))\n",
        "\n",
        "        # Output\n",
        "        # the output transformer encoder/decoder embeddings don't include non-linearity\n",
        "        output = self.act(enc_out)\n",
        "        output = self.dropout(output)\n",
        "\n",
        "        # zero-out padding embeddings:The primary role of x_mark_enc in the code is to\n",
        "        # zero out the embeddings for padding positions in the output tensor through\n",
        "        # element-wise multiplication, helping the model to focus on meaningful data\n",
        "        # while disregarding padding.\n",
        "        output = output * x_mark_enc.unsqueeze(-1)\n",
        "\n",
        "        # (batch_size, seq_length * d_model)\n",
        "        output = output.reshape(output.shape[0], -1)\n",
        "        output = self.projection(output)  # (batch_size, num_classes)\n",
        "        return output"
      ]
    },
    {
      "cell_type": "markdown",
      "metadata": {
        "id": "dYhq7iF89D6P"
      },
      "source": [
        "In the end, with so many tasks above, we become able to complete `forward(self, x_enc, x_mark_enc, x_dec, x_mark_dec, mask=None):`."
      ]
    },
    {
      "cell_type": "code",
      "execution_count": 20,
      "metadata": {
        "id": "E0fInOWS9D6Q"
      },
      "outputs": [],
      "source": [
        "def forward(self, x_enc, x_mark_enc, x_dec, x_mark_dec, mask=None):\n",
        "    if self.task_name == 'long_term_forecast' or self.task_name == 'short_term_forecast':\n",
        "        dec_out = self.forecast(x_enc, x_mark_enc, x_dec, x_mark_dec)\n",
        "        return dec_out[:, -self.pred_len:, :]  # [B, L, D] return the predicted part of sequence\n",
        "    if self.task_name == 'imputation':\n",
        "        dec_out = self.imputation(\n",
        "            x_enc, x_mark_enc, x_dec, x_mark_dec, mask)\n",
        "        return dec_out  # [B, L, D] return the whole sequence with missing value estimated\n",
        "    if self.task_name == 'anomaly_detection':\n",
        "        dec_out = self.anomaly_detection(x_enc)\n",
        "        return dec_out  # [B, L, D] return the sequence that should be correct\n",
        "    if self.task_name == 'classification':\n",
        "        dec_out = self.classification(x_enc, x_mark_enc)\n",
        "        return dec_out  # [B, N] return the classification result\n",
        "    return None"
      ]
    },
    {
      "cell_type": "markdown",
      "metadata": {
        "id": "-7I-QH3i9D6Q"
      },
      "source": [
        "### 5. Training and Settings\n",
        "\n",
        "By now we've successfully build up `TimesNet`. We are now facing the problem how to train and test this neural network. The action of training, validating as well as testing is implemented at __*exp*__ part, in which codes for different tasks are gathered. These experiments are not only for `TimesNet` training, but also feasible for any other time series representation model. But here, we simply use `TimesNet` to analyse.\n",
        "\n",
        "`TimesNet` is a state-of-art in multiple tasks, while here we would only introduce its training for long-term forecast task, since the backbone of the training process for other tasks is similar to this one. Again, test and validation code can be easily understood once you've aware how the training process works. So first of all, we are going to focus on the training of `TimesNet` on task long-term forecasting.\n",
        "\n",
        "We will discuss many aspects, including the training process, training loss etc."
      ]
    },
    {
      "cell_type": "markdown",
      "metadata": {
        "id": "2M2K6r-G9D6Q"
      },
      "source": [
        "#### 5.1 Training for Long-term Forecast Task\n",
        "\n",
        "The following codes represents the process of training model for long-term forecasting task. We'll have a detailed look at it. To make it brief, the training part can be briefly divided into several parts, including Data Preparation, Creating Save Path, Initialization, Optimizer and Loss Function Selection, Using Mixed Precision Training, Training Loop, Validation and Early Stopping, Learning Rate Adjustment, Loading the Best Model.\n",
        "\n",
        "For more details, please see the code below. 'train' process is defined in the experiment  <font color=orange>__class Exp_Long_Term_Forecast__</font>."
      ]
    },
    {
      "cell_type": "code",
      "execution_count": 21,
      "metadata": {
        "id": "QYLLmbHb9D6Q"
      },
      "outputs": [],
      "source": [
        "import os"
      ]
    },
    {
      "cell_type": "code",
      "execution_count": 22,
      "metadata": {
        "id": "-hsU82Qm9D6Q"
      },
      "outputs": [],
      "source": [
        "def train(self, setting):  #setting is the args for this model training\n",
        "    #get train dataloader\n",
        "    train_data, train_loader = self._get_data(flag='train')\n",
        "    vali_data, vali_loader = self._get_data(flag='val')\n",
        "    test_data, test_loader = self._get_data(flag='test')\n",
        "\n",
        "    # set path of checkpoint for saving and loading model\n",
        "    path = os.path.join(self.args.checkpoints, setting)\n",
        "    if not os.path.exists(path):\n",
        "        os.makedirs(path)\n",
        "    time_now = time.time()\n",
        "\n",
        "    train_steps = len(train_loader)\n",
        "\n",
        "    # EarlyStopping is typically a custom class or function that monitors the performance\n",
        "    # of a model during training, usually by tracking a certain metric (commonly validation\n",
        "    # loss or accuracy).It's a common technique used in deep learning to prevent overfitting\n",
        "    # during the training\n",
        "    early_stopping = EarlyStopping(patience=self.args.patience, verbose=True)\n",
        "\n",
        "    #Optimizer and Loss Function Selection\n",
        "    model_optim = self._select_optimizer()\n",
        "    criterion = self._select_criterion()\n",
        "\n",
        "    # AMP training is a technique that uses lower-precision data types (e.g., float16)\n",
        "    # for certain computations to accelerate training and reduce memory usage.\n",
        "    if self.args.use_amp:\n",
        "        scaler = torch.cuda.amp.GradScaler()\n",
        "    for epoch in range(self.args.train_epochs):\n",
        "        iter_count = 0\n",
        "        train_loss = []\n",
        "        self.model.train()\n",
        "        epoch_time = time.time()\n",
        "\n",
        "        #begin training in this epoch\n",
        "        for i, (batch_x, batch_y, batch_x_mark, batch_y_mark) in enumerate(train_loader):\n",
        "            iter_count += 1\n",
        "            model_optim.zero_grad()\n",
        "            batch_x = batch_x.float().to(self.device)  #input features\n",
        "            batch_y = batch_y.float().to(self.device)  #target features\n",
        "\n",
        "            # _mark holds information about time-related features. Specifically, it is a\n",
        "            # tensor that encodes temporal information and is associated with the\n",
        "            # input data batch_x.\n",
        "            batch_x_mark = batch_x_mark.float().to(self.device)\n",
        "            batch_y_mark = batch_y_mark.float().to(self.device)\n",
        "            # decoder input(didn't use in TimesNet case)\n",
        "            dec_inp = torch.zeros_like(batch_y[:, -self.args.pred_len:, :]).float()\n",
        "            dec_inp = torch.cat([batch_y[:, :self.args.label_len, :], dec_inp], dim=1).float().to(self.device)\n",
        "            # encoder - decoder\n",
        "            if self.args.use_amp: #in the case of TimesNet, use_amp should be False\n",
        "                with torch.cuda.amp.autocast():\n",
        "                    # whether to output attention in ecoder,in TimesNet case is no\n",
        "                    if self.args.output_attention:\n",
        "                        outputs = self.model(batch_x, batch_x_mark, dec_inp, batch_y_mark)[0]\n",
        "                    # model the input\n",
        "                    else:\n",
        "                        outputs = self.model(batch_x, batch_x_mark, dec_inp, batch_y_mark)\n",
        "\n",
        "                    # forecasting task, options:[M, S, MS]; M:multivariate predict multivariate,\n",
        "                    # S:univariate predict univariate, MS:multivariate predict univariate'\n",
        "                    #if multivariate predict univariate',then output should be the last column of the decoder\n",
        "                    # output, so f_dim = -1 to only contain the last column, else is all columns\n",
        "                    f_dim = -1 if self.args.features == 'MS' else 0\n",
        "                    outputs = outputs[:, -self.args.pred_len:, f_dim:]\n",
        "                    batch_y = batch_y[:, -self.args.pred_len:, f_dim:].to(self.device)\n",
        "\n",
        "                    # calc loss\n",
        "                    loss = criterion(outputs, batch_y)\n",
        "                    train_loss.append(loss.item())\n",
        "            else:  #similar to when use_amp is True\n",
        "                if self.args.output_attention:\n",
        "                    outputs = self.model(batch_x, batch_x_mark, dec_inp, batch_y_mark)[0]\n",
        "                else:\n",
        "                    outputs = self.model(batch_x, batch_x_mark, dec_inp, batch_y_mark)\n",
        "                f_dim = -1 if self.args.features == 'MS' else 0\n",
        "                outputs = outputs[:, -self.args.pred_len:, f_dim:]\n",
        "                batch_y = batch_y[:, -self.args.pred_len:, f_dim:].to(self.device)\n",
        "                loss = criterion(outputs, batch_y)\n",
        "                train_loss.append(loss.item())\n",
        "\n",
        "            # When train rounds attain some 100-multiple, print speed, left time, loss. etc feedback\n",
        "            if (i + 1) % 100 == 0:\n",
        "                print(\"\\titers: {0}, epoch: {1} | loss: {2:.7f}\".format(i + 1, epoch + 1, loss.item()))\n",
        "                speed = (time.time() - time_now) / iter_count\n",
        "                left_time = speed * ((self.args.train_epochs - epoch) * train_steps - i)\n",
        "                print('\\tspeed: {:.4f}s/iter; left time: {:.4f}s'.format(speed, left_time))\n",
        "                iter_count = 0\n",
        "                time_now = time.time()\n",
        "\n",
        "            #BP\n",
        "            if self.args.use_amp:\n",
        "                scaler.scale(loss).backward()\n",
        "                scaler.step(model_optim)\n",
        "                scaler.update()\n",
        "            else:\n",
        "                loss.backward()\n",
        "                model_optim.step()\n",
        "\n",
        "        #This epoch comes to end, print information\n",
        "        print(\"Epoch: {} cost time: {}\".format(epoch + 1, time.time() - epoch_time))\n",
        "        train_loss = np.average(train_loss)\n",
        "\n",
        "        #run test and validation on current model\n",
        "        vali_loss = self.vali(vali_data, vali_loader, criterion)\n",
        "        test_loss = self.vali(test_data, test_loader, criterion)\n",
        "\n",
        "        #print train, test, vali loss information\n",
        "        print(\"Epoch: {0}, Steps: {1} | Train Loss: {2:.7f} Vali Loss: {3:.7f} Test Loss: {4:.7f}\".format(\n",
        "            epoch + 1, train_steps, train_loss, vali_loss, test_loss))\n",
        "\n",
        "        #Decide whether to trigger Early Stopping. if early_stop is true, it means that\n",
        "        #this epoch's training is now at a flat slope, so stop further training for this epoch.\n",
        "        early_stopping(vali_loss, self.model, path)\n",
        "        if early_stopping.early_stop:\n",
        "            print(\"Early stopping\")\n",
        "            break\n",
        "\n",
        "        #adjust learning keys\n",
        "        adjust_learning_rate(model_optim, epoch + 1, self.args)\n",
        "    best_model_path = path + '/' + 'checkpoint.pth'\n",
        "\n",
        "    # loading the trained model's state dictionary from a saved checkpoint file\n",
        "    # located at best_model_path.\n",
        "    self.model.load_state_dict(torch.load(best_model_path))\n",
        "    return self.model"
      ]
    },
    {
      "cell_type": "markdown",
      "metadata": {
        "id": "Emyur9PF9D6Q"
      },
      "source": [
        "If you want to learn more, please see it at exp/exp_long_term_forecasting.py"
      ]
    },
    {
      "cell_type": "markdown",
      "metadata": {
        "id": "wkkcalm_9D6Q"
      },
      "source": [
        "#### 5.2 Early Stopping Mechanism\n",
        "\n",
        "<font color=purple>__EarlyStopping__</font> is typically a custom class or function that monitors the performance of a model during training, usually by tracking a certain metric (commonly validation loss or accuracy).It's a common technique used in deep learning to prevent overfitting during the training.\n",
        "\n",
        "Let's see the code below(original code is in `tools.py`)."
      ]
    },
    {
      "cell_type": "code",
      "execution_count": 23,
      "metadata": {
        "id": "XZE-shNA9D6R"
      },
      "outputs": [],
      "source": [
        "class EarlyStopping:\n",
        "    def __init__(self, patience=7, verbose=False, delta=0):\n",
        "        self.patience = patience # how many times will you tolerate for loss not being on decrease\n",
        "        self.verbose = verbose  # whether to print tip info\n",
        "        self.counter = 0 # now how many times loss not on decrease\n",
        "        self.best_score = None\n",
        "        self.early_stop = False\n",
        "        self.val_loss_min = np.Inf\n",
        "        self.delta = delta\n",
        "\n",
        "    def __call__(self, val_loss, model, path):\n",
        "        score = -val_loss\n",
        "        if self.best_score is None:\n",
        "            self.best_score = score\n",
        "            self.save_checkpoint(val_loss, model, path)\n",
        "\n",
        "        # meaning: current score is not 'delta' better than best_score, representing that\n",
        "        # further training may not bring remarkable improvement in loss.\n",
        "        elif score < self.best_score + self.delta:\n",
        "            self.counter += 1\n",
        "            print(f'EarlyStopping counter: {self.counter} out of {self.patience}')\n",
        "            # 'No Improvement' times become higher than patience --> Stop Further Training\n",
        "            if self.counter >= self.patience:\n",
        "                self.early_stop = True\n",
        "\n",
        "        else: #model's loss is still on decrease, save the now best model and go on training\n",
        "            self.best_score = score\n",
        "            self.save_checkpoint(val_loss, model, path)\n",
        "            self.counter = 0\n",
        "\n",
        "    def save_checkpoint(self, val_loss, model, path):\n",
        "    ### used for saving the current best model\n",
        "        if self.verbose:\n",
        "            print(f'Validation loss decreased ({self.val_loss_min:.6f} --> {val_loss:.6f}).  Saving model ...')\n",
        "        torch.save(model.state_dict(), path + '/' + 'checkpoint.pth')\n",
        "        self.val_loss_min = val_loss"
      ]
    },
    {
      "cell_type": "markdown",
      "metadata": {
        "id": "0C-WfbRp9D6R"
      },
      "source": [
        "#### 5.3 Optimizer and Criterion\n",
        "\n",
        "The optimizer and criterion are defined in <font color=orange>__class Exp_Long_Term_Forecast__</font> and called in the training process by function `self._select_optimizer()` and `self._select_criterion()`. Here, for long-term forecasting task, we simply adopt Adam optimizer and MSELoss to meature the loss between real data and predicted ones."
      ]
    },
    {
      "cell_type": "code",
      "execution_count": 24,
      "metadata": {
        "id": "-9H8pUg59D6R"
      },
      "outputs": [],
      "source": [
        "def _select_optimizer(self):\n",
        "    model_optim = optim.Adam(self.model.parameters(), lr=self.args.learning_rate)\n",
        "    return model_optim\n",
        "\n",
        "def _select_criterion(self):\n",
        "    criterion = nn.MSELoss()\n",
        "    return criterion"
      ]
    },
    {
      "cell_type": "markdown",
      "metadata": {
        "id": "MjqywZdY9D6R"
      },
      "source": [
        "#### 5.4 Automatic Mixed Precision（AMP）\n",
        "\n",
        "AMP is a technique used in deep learning to improve training speed and reduce memory usage. AMP achieves this by mixing calculations in half-precision (16-bit floating-point) and single-precision (32-bit floating-point).\n",
        "\n",
        "Let's have a closer look on this snippet:"
      ]
    },
    {
      "cell_type": "code",
      "execution_count": 25,
      "metadata": {
        "id": "jk7FdjxU9D6Z",
        "colab": {
          "base_uri": "https://localhost:8080/",
          "height": 110
        },
        "outputId": "92f88206-3023-4369-97f7-c7aa676a62dc"
      },
      "outputs": [
        {
          "output_type": "error",
          "ename": "IndentationError",
          "evalue": "expected an indented block after 'with' statement on line 2 (<ipython-input-25-895f82f3070a>, line 4)",
          "traceback": [
            "\u001b[0;36m  File \u001b[0;32m\"<ipython-input-25-895f82f3070a>\"\u001b[0;36m, line \u001b[0;32m4\u001b[0m\n\u001b[0;31m    ...\u001b[0m\n\u001b[0m    ^\u001b[0m\n\u001b[0;31mIndentationError\u001b[0m\u001b[0;31m:\u001b[0m expected an indented block after 'with' statement on line 2\n"
          ]
        }
      ],
      "source": [
        "#in forward process:\n",
        "with torch.cuda.amp.autocast():\n",
        "\n",
        "...\n",
        "\n",
        "#in BP process:\n",
        "if self.args.use_amp:\n",
        "    scaler.scale(loss).backward()\n",
        "    scaler.step(model_optim)\n",
        "    scaler.update()\n"
      ]
    },
    {
      "cell_type": "markdown",
      "metadata": {
        "id": "sF_CXfSc9D6Z"
      },
      "source": [
        "` with torch.cuda.amp.autocast():` :  The purpose of using torch.cuda.amp.autocast() is to take advantage of the speed and memory efficiency benefits of mixed-precision training while maintaining numerical stability. Some deep learning models can benefit significantly from this technique, especially on modern GPUs with hardware support for half-precision arithmetic. It allows you to perform certain calculations more quickly while still ensuring that critical calculations (e.g., gradient updates) are performed with sufficient precision to avoid loss of accuracy.\n",
        "\n",
        "`scaler.scale(loss).backward()`: If AMP is enabled, it uses a scaler object created with torch.cuda.amp.GradScaler() to automatically scale the loss and perform backward propagation. This is a crucial part of AMP, ensuring numerical stability. Before backpropagation, the loss is scaled to an appropriate range to prevent gradients from diverging too quickly or causing numerical instability.\n",
        "\n",
        "`scaler.step(model_optim)`: Next, the scaler calls the step method, which applies the scaled gradients to the model's optimizer (model_optim). This is used to update the model's weights to minimize the loss function.\n",
        "\n",
        "`scaler.update()`: Finally, the scaler calls the update method, which updates the scaling factor to ensure correct scaling of the loss for the next iteration. This step helps dynamically adjust the scaling of gradients to adapt to different training scenarios."
      ]
    },
    {
      "cell_type": "markdown",
      "metadata": {
        "id": "vDmgwFQX9D6a"
      },
      "source": [
        "#### 5.5 Learning Rate Adjustment\n",
        "\n",
        "While the optimizer are responsible for adapting the learning rate with epochs, we would still like to do some adjustment on it manually, as indicated in the function `adjust_learning_rate(model_optim, epoch + 1, self.args)`, whose codes are shown below(original code is in `tools.py`):"
      ]
    },
    {
      "cell_type": "code",
      "execution_count": 26,
      "metadata": {
        "id": "P5k3laSo9D6a"
      },
      "outputs": [],
      "source": [
        "def adjust_learning_rate(optimizer, epoch, args):\n",
        "\n",
        "    #first type: learning rate decrease with epoch by exponential\n",
        "    if args.lradj == 'type1':\n",
        "        lr_adjust = {epoch: args.learning_rate * (0.5 ** ((epoch - 1) // 1))}\n",
        "\n",
        "    #second type: learning rate decrease manually\n",
        "    elif args.lradj == 'type2':\n",
        "        lr_adjust = {\n",
        "            2: 5e-5, 4: 1e-5, 6: 5e-6, 8: 1e-6,\n",
        "            10: 5e-7, 15: 1e-7, 20: 5e-8\n",
        "        }\n",
        "\n",
        "    #1st type: update in each epoch\n",
        "    #2nd type: only update in epochs that are written in Dict lr_adjust\n",
        "    if epoch in lr_adjust.keys():\n",
        "        lr = lr_adjust[epoch]\n",
        "\n",
        "        # change the learning rate for different parameter groups within the optimizer\n",
        "        for param_group in optimizer.param_groups:\n",
        "            param_group['lr'] = lr\n",
        "        print('Updating learning rate to {}'.format(lr))"
      ]
    },
    {
      "cell_type": "markdown",
      "metadata": {
        "id": "gcgZvPzz9D6a"
      },
      "source": [
        "### 6. Validation and Testing\n",
        "\n",
        "During training, the model continuously adjusts its weights and parameters to minimize training error. However, this may not reflect the model's performance on unseen data. Validation allows us to periodically assess the model's performance on data that is different from the training data, providing insights into the model's generalization ability.\n",
        "\n",
        "By comparing performance on the validation set, we can identify whether the model is overfitting. Overfitting occurs when a model performs well on training data but poorly on unseen data. Monitoring performance on the validation set helps detect overfitting early and take measures to prevent it, such as early stopping or adjusting hyperparameters.\n",
        "\n",
        "Here, we still take long-term forecasting as an example, similar to train process:"
      ]
    },
    {
      "cell_type": "code",
      "execution_count": 27,
      "metadata": {
        "id": "aK2cwf5z9D6a"
      },
      "outputs": [],
      "source": [
        "def vali(self, vali_data, vali_loader, criterion):\n",
        "        total_loss = []\n",
        "\n",
        "        #evaluation mode\n",
        "        self.model.eval()\n",
        "        with torch.no_grad():\n",
        "            for i, (batch_x, batch_y, batch_x_mark, batch_y_mark) in enumerate(vali_loader):\n",
        "                batch_x = batch_x.float().to(self.device)\n",
        "                batch_y = batch_y.float()\n",
        "\n",
        "                batch_x_mark = batch_x_mark.float().to(self.device)\n",
        "                batch_y_mark = batch_y_mark.float().to(self.device)\n",
        "\n",
        "                # decoder input\n",
        "                dec_inp = torch.zeros_like(batch_y[:, -self.args.pred_len:, :]).float()\n",
        "                dec_inp = torch.cat([batch_y[:, :self.args.label_len, :], dec_inp], dim=1).float().to(self.device)\n",
        "                # encoder - decoder\n",
        "                if self.args.use_amp:\n",
        "                    with torch.cuda.amp.autocast():\n",
        "                        if self.args.output_attention:\n",
        "                            outputs = self.model(batch_x, batch_x_mark, dec_inp, batch_y_mark)[0]\n",
        "                        else:\n",
        "                            outputs = self.model(batch_x, batch_x_mark, dec_inp, batch_y_mark)\n",
        "                else:\n",
        "                    if self.args.output_attention:\n",
        "                        outputs = self.model(batch_x, batch_x_mark, dec_inp, batch_y_mark)[0]\n",
        "                    else:\n",
        "                        outputs = self.model(batch_x, batch_x_mark, dec_inp, batch_y_mark)\n",
        "                f_dim = -1 if self.args.features == 'MS' else 0\n",
        "                outputs = outputs[:, -self.args.pred_len:, f_dim:]\n",
        "                batch_y = batch_y[:, -self.args.pred_len:, f_dim:].to(self.device)\n",
        "\n",
        "                pred = outputs.detach().cpu()\n",
        "                true = batch_y.detach().cpu()\n",
        "\n",
        "                loss = criterion(pred, true)\n",
        "\n",
        "                total_loss.append(loss)\n",
        "        total_loss = np.average(total_loss)\n",
        "        self.model.train()\n",
        "        return total_loss"
      ]
    },
    {
      "cell_type": "markdown",
      "metadata": {
        "id": "zAZoUXoq9D6a"
      },
      "source": [
        "Testing is similar to validation, but it's purpose is to examine how well the model behaves, so it's common to add some visualization with __matplotlib.pyplot__."
      ]
    },
    {
      "cell_type": "code",
      "execution_count": 28,
      "metadata": {
        "id": "bEsz_Efc9D6a"
      },
      "outputs": [],
      "source": [
        "import matplotlib.pyplot as plt\n",
        "\n",
        "def visual(true, preds=None, name='./pic/test.pdf'):\n",
        "    \"\"\"\n",
        "    Results visualization\n",
        "    \"\"\"\n",
        "    plt.figure()\n",
        "    plt.plot(true, label='GroundTruth', linewidth=2)\n",
        "    if preds is not None:\n",
        "        plt.plot(preds, label='Prediction', linewidth=2)\n",
        "    plt.legend()\n",
        "    plt.savefig(name, bbox_inches='tight')"
      ]
    },
    {
      "cell_type": "code",
      "execution_count": 29,
      "metadata": {
        "id": "mZnrhVXd9D6a"
      },
      "outputs": [],
      "source": [
        "def test(self, setting, test=0):\n",
        "        test_data, test_loader = self._get_data(flag='test')\n",
        "        if test:\n",
        "            print('loading model')\n",
        "            self.model.load_state_dict(torch.load(os.path.join('./checkpoints/' + setting, 'checkpoint.pth')))\n",
        "\n",
        "        preds = []\n",
        "        trues = []\n",
        "        folder_path = './test_results/' + setting + '/'\n",
        "        if not os.path.exists(folder_path):\n",
        "            os.makedirs(folder_path)\n",
        "\n",
        "        self.model.eval()\n",
        "        with torch.no_grad():\n",
        "            for i, (batch_x, batch_y, batch_x_mark, batch_y_mark) in enumerate(test_loader):\n",
        "                batch_x = batch_x.float().to(self.device)\n",
        "                batch_y = batch_y.float().to(self.device)\n",
        "\n",
        "                batch_x_mark = batch_x_mark.float().to(self.device)\n",
        "                batch_y_mark = batch_y_mark.float().to(self.device)\n",
        "\n",
        "                # decoder input\n",
        "                dec_inp = torch.zeros_like(batch_y[:, -self.args.pred_len:, :]).float()\n",
        "                dec_inp = torch.cat([batch_y[:, :self.args.label_len, :], dec_inp], dim=1).float().to(self.device)\n",
        "                # encoder - decoder\n",
        "                if self.args.use_amp:\n",
        "                    with torch.cuda.amp.autocast():\n",
        "                        if self.args.output_attention:\n",
        "                            outputs = self.model(batch_x, batch_x_mark, dec_inp, batch_y_mark)[0]\n",
        "                        else:\n",
        "                            outputs = self.model(batch_x, batch_x_mark, dec_inp, batch_y_mark)\n",
        "                else:\n",
        "                    if self.args.output_attention:\n",
        "                        outputs = self.model(batch_x, batch_x_mark, dec_inp, batch_y_mark)[0]\n",
        "\n",
        "                    else:\n",
        "                        outputs = self.model(batch_x, batch_x_mark, dec_inp, batch_y_mark)\n",
        "\n",
        "                f_dim = -1 if self.args.features == 'MS' else 0\n",
        "                outputs = outputs[:, -self.args.pred_len:, f_dim:]\n",
        "                batch_y = batch_y[:, -self.args.pred_len:, f_dim:].to(self.device)\n",
        "                outputs = outputs.detach().cpu().numpy()\n",
        "                batch_y = batch_y.detach().cpu().numpy()\n",
        "\n",
        "                #inverse the data if scaled\n",
        "                if test_data.scale and self.args.inverse:\n",
        "                    outputs = test_data.inverse_transform(outputs)\n",
        "                    batch_y = test_data.inverse_transform(batch_y)\n",
        "\n",
        "                pred = outputs\n",
        "                true = batch_y\n",
        "\n",
        "                preds.append(pred)\n",
        "                trues.append(true)\n",
        "\n",
        "                #visualize one piece of data every 20\n",
        "                if i % 20 == 0:\n",
        "                    input = batch_x.detach().cpu().numpy()\n",
        "                    #the whole sequence\n",
        "                    gt = np.concatenate((input[0, :, -1], true[0, :, -1]), axis=0)\n",
        "                    pd = np.concatenate((input[0, :, -1], pred[0, :, -1]), axis=0)\n",
        "                    visual(gt, pd, os.path.join(folder_path, str(i) + '.pdf'))\n",
        "\n",
        "        preds = np.array(preds)\n",
        "        trues = np.array(trues)  # shape[batch_num, batch_size, pred_len, features]\n",
        "        print('test shape:', preds.shape, trues.shape)\n",
        "        preds = preds.reshape(-1, preds.shape[-2], preds.shape[-1])\n",
        "        trues = trues.reshape(-1, trues.shape[-2], trues.shape[-1])\n",
        "        print('test shape:', preds.shape, trues.shape)\n",
        "\n",
        "        # result save\n",
        "        folder_path = './results/' + setting + '/'\n",
        "        if not os.path.exists(folder_path):\n",
        "            os.makedirs(folder_path)\n",
        "\n",
        "        mae, mse, rmse, mape, mspe = metric(preds, trues)\n",
        "        print('mse:{}, mae:{}'.format(mse, mae))\n",
        "        f = open(\"result_long_term_forecast.txt\", 'a')\n",
        "        f.write(setting + \"  \\n\")\n",
        "        f.write('mse:{}, mae:{}'.format(mse, mae))\n",
        "        f.write('\\n')\n",
        "        f.write('\\n')\n",
        "        f.close()\n",
        "\n",
        "        np.save(folder_path + 'metrics.npy', np.array([mae, mse, rmse, mape, mspe]))\n",
        "        np.save(folder_path + 'pred.npy', preds)\n",
        "        np.save(folder_path + 'true.npy', trues)\n",
        "\n",
        "        return\n"
      ]
    },
    {
      "cell_type": "markdown",
      "metadata": {
        "id": "iy9swcQg9D6b"
      },
      "source": [
        "### 7. Dataloader and DataProvider\n",
        "\n",
        "In the process of training, we simply take the dataloader for granted, by the function `self._get_data(flag='train')`. So how does this line work? Have a look at the definition(in  <font color=orange>__class Exp_Long_Term_Forecast__</font>):"
      ]
    },
    {
      "cell_type": "code",
      "execution_count": 30,
      "metadata": {
        "id": "21vFPuhV9D6b"
      },
      "outputs": [],
      "source": [
        "def _get_data(self, flag):\n",
        "        data_set, data_loader = data_provider(self.args, flag)\n",
        "        return data_set, data_loader"
      ]
    },
    {
      "cell_type": "markdown",
      "metadata": {
        "id": "rrLTT7Vv9D6b"
      },
      "source": [
        "One step forward, see `data_provider(self.args, flag)`(in `data_factory.py`):"
      ]
    },
    {
      "cell_type": "code",
      "source": [
        "!ls"
      ],
      "metadata": {
        "colab": {
          "base_uri": "https://localhost:8080/"
        },
        "id": "-V_p1SycdidC",
        "outputId": "3bab9eb4-7e07-4042-df10-826ffd0e7162"
      },
      "execution_count": 30,
      "outputs": [
        {
          "output_type": "stream",
          "name": "stdout",
          "text": [
            "checkpoints    dataset\tlayers\t models  README.md\t   run.py   tutorial\n",
            "data_provider  exp\tLICENSE  pic\t requirements.txt  scripts  utils\n"
          ]
        }
      ]
    },
    {
      "cell_type": "code",
      "source": [
        "!pip install git+https://github.com/wummel/patool.git"
      ],
      "metadata": {
        "colab": {
          "base_uri": "https://localhost:8080/"
        },
        "id": "sCtJ3V_ieEdg",
        "outputId": "c4a9e27a-4be4-4280-fa96-f203dd5d2696"
      },
      "execution_count": 31,
      "outputs": [
        {
          "output_type": "stream",
          "name": "stdout",
          "text": [
            "Collecting git+https://github.com/wummel/patool.git\n",
            "  Cloning https://github.com/wummel/patool.git to /tmp/pip-req-build-uv4s_cn5\n",
            "  Running command git clone --filter=blob:none --quiet https://github.com/wummel/patool.git /tmp/pip-req-build-uv4s_cn5\n",
            "  Resolved https://github.com/wummel/patool.git to commit 4c43466eb0b8895eb48c3406fa3b6d93a06dfc85\n",
            "  Installing build dependencies ... \u001b[?25l\u001b[?25hdone\n",
            "  Getting requirements to build wheel ... \u001b[?25l\u001b[?25hdone\n",
            "  Installing backend dependencies ... \u001b[?25l\u001b[?25hdone\n",
            "  Preparing metadata (pyproject.toml) ... \u001b[?25l\u001b[?25hdone\n",
            "Building wheels for collected packages: patool\n",
            "  Building wheel for patool (pyproject.toml) ... \u001b[?25l\u001b[?25hdone\n",
            "  Created wheel for patool: filename=patool-2.2.0-py2.py3-none-any.whl size=96021 sha256=2a8083e0b1c940025a00e0ad9336ab1773f91ffee5511a87ce974d09d98de078\n",
            "  Stored in directory: /tmp/pip-ephem-wheel-cache-qyj7y4zq/wheels/d1/ca/bb/ead44b4f2e16c9dce87a3c4f695d2b3feb1f023db569e0cb9d\n",
            "Successfully built patool\n",
            "Installing collected packages: patool\n",
            "Successfully installed patool-2.2.0\n"
          ]
        }
      ]
    },
    {
      "cell_type": "code",
      "source": [
        "!pip install sktime"
      ],
      "metadata": {
        "colab": {
          "base_uri": "https://localhost:8080/"
        },
        "id": "0S67FF8Zeys6",
        "outputId": "f22c95a6-0df7-4888-88ba-5af76b632753"
      },
      "execution_count": 32,
      "outputs": [
        {
          "output_type": "stream",
          "name": "stdout",
          "text": [
            "Collecting sktime\n",
            "  Downloading sktime-0.28.0-py3-none-any.whl (21.9 MB)\n",
            "\u001b[2K     \u001b[90m━━━━━━━━━━━━━━━━━━━━━━━━━━━━━━━━━━━━━━━━\u001b[0m \u001b[32m21.9/21.9 MB\u001b[0m \u001b[31m40.1 MB/s\u001b[0m eta \u001b[36m0:00:00\u001b[0m\n",
            "\u001b[?25hRequirement already satisfied: numpy<1.27,>=1.21 in /usr/local/lib/python3.10/dist-packages (from sktime) (1.25.2)\n",
            "Requirement already satisfied: packaging in /usr/local/lib/python3.10/dist-packages (from sktime) (24.0)\n",
            "Requirement already satisfied: pandas<2.3.0,>=1.1 in /usr/local/lib/python3.10/dist-packages (from sktime) (1.5.3)\n",
            "Collecting scikit-base<0.8.0 (from sktime)\n",
            "  Downloading scikit_base-0.7.5-py3-none-any.whl (128 kB)\n",
            "\u001b[2K     \u001b[90m━━━━━━━━━━━━━━━━━━━━━━━━━━━━━━━━━━━━━━━━\u001b[0m \u001b[32m128.8/128.8 kB\u001b[0m \u001b[31m15.9 MB/s\u001b[0m eta \u001b[36m0:00:00\u001b[0m\n",
            "\u001b[?25hRequirement already satisfied: scikit-learn<1.5.0,>=0.24 in /usr/local/lib/python3.10/dist-packages (from sktime) (1.2.2)\n",
            "Requirement already satisfied: scipy<2.0.0,>=1.2 in /usr/local/lib/python3.10/dist-packages (from sktime) (1.11.4)\n",
            "Requirement already satisfied: python-dateutil>=2.8.1 in /usr/local/lib/python3.10/dist-packages (from pandas<2.3.0,>=1.1->sktime) (2.8.2)\n",
            "Requirement already satisfied: pytz>=2020.1 in /usr/local/lib/python3.10/dist-packages (from pandas<2.3.0,>=1.1->sktime) (2023.4)\n",
            "Requirement already satisfied: joblib>=1.1.1 in /usr/local/lib/python3.10/dist-packages (from scikit-learn<1.5.0,>=0.24->sktime) (1.3.2)\n",
            "Requirement already satisfied: threadpoolctl>=2.0.0 in /usr/local/lib/python3.10/dist-packages (from scikit-learn<1.5.0,>=0.24->sktime) (3.4.0)\n",
            "Requirement already satisfied: six>=1.5 in /usr/local/lib/python3.10/dist-packages (from python-dateutil>=2.8.1->pandas<2.3.0,>=1.1->sktime) (1.16.0)\n",
            "Installing collected packages: scikit-base, sktime\n",
            "Successfully installed scikit-base-0.7.5 sktime-0.28.0\n"
          ]
        }
      ]
    },
    {
      "cell_type": "code",
      "source": [
        "!ls"
      ],
      "metadata": {
        "colab": {
          "base_uri": "https://localhost:8080/"
        },
        "id": "vIY-WKB1dv8l",
        "outputId": "93366b84-4105-4b5b-9d57-56770706e7e6"
      },
      "execution_count": null,
      "outputs": [
        {
          "output_type": "stream",
          "name": "stdout",
          "text": [
            "data_factory.py  data_loader.py  __init__.py  m4.py  __pycache__  uea.py\n"
          ]
        }
      ]
    },
    {
      "cell_type": "code",
      "source": [
        "%cd utils"
      ],
      "metadata": {
        "colab": {
          "base_uri": "https://localhost:8080/"
        },
        "id": "UNJAemBwzcMO",
        "outputId": "956b7a39-b28f-4f77-e2c7-e0f5aa4e2166"
      },
      "execution_count": 36,
      "outputs": [
        {
          "output_type": "stream",
          "name": "stdout",
          "text": [
            "/content/Time-Series-Library/utils\n"
          ]
        }
      ]
    },
    {
      "cell_type": "code",
      "source": [
        "from timefeatures import *"
      ],
      "metadata": {
        "id": "ilhomgzo2g8D"
      },
      "execution_count": 37,
      "outputs": []
    },
    {
      "cell_type": "code",
      "source": [
        "%cd .."
      ],
      "metadata": {
        "colab": {
          "base_uri": "https://localhost:8080/"
        },
        "id": "n1h6LqCd2suM",
        "outputId": "ec5f2fad-7c4d-4abf-ca91-0840d22ab57f"
      },
      "execution_count": 40,
      "outputs": [
        {
          "output_type": "stream",
          "name": "stdout",
          "text": [
            "/content/Time-Series-Library\n"
          ]
        }
      ]
    },
    {
      "cell_type": "code",
      "source": [
        "%cd data_provider"
      ],
      "metadata": {
        "colab": {
          "base_uri": "https://localhost:8080/"
        },
        "id": "eOw73L3QdmIX",
        "outputId": "1aebe652-6936-4e74-dfa2-24df8f7b0d45"
      },
      "execution_count": 41,
      "outputs": [
        {
          "output_type": "stream",
          "name": "stdout",
          "text": [
            "/content/Time-Series-Library/data_provider\n"
          ]
        }
      ]
    },
    {
      "cell_type": "code",
      "source": [
        "!ls"
      ],
      "metadata": {
        "id": "u8YjDIh43qJR",
        "colab": {
          "base_uri": "https://localhost:8080/"
        },
        "outputId": "ce27d939-2e04-4579-c6a5-6f76295e1cf6"
      },
      "execution_count": 42,
      "outputs": [
        {
          "output_type": "stream",
          "name": "stdout",
          "text": [
            "data_factory.py  data_loader.py  __init__.py  m4.py  uea.py\n"
          ]
        }
      ]
    },
    {
      "cell_type": "code",
      "execution_count": 43,
      "metadata": {
        "id": "kbVMc8E79D6b"
      },
      "outputs": [],
      "source": [
        "# Below are some dataloaders defined in data_loader.py. If you want to add your own data,\n",
        "# go and check data_loader.py to rewrite a dataloader to fit your data.\n",
        "from data_loader import *\n",
        "\n",
        "\n",
        "data_dict = {\n",
        "    'ETTh1': Dataset_ETT_hour,\n",
        "    'ETTh2': Dataset_ETT_hour,\n",
        "    'ETTm1': Dataset_ETT_minute,\n",
        "    'ETTm2': Dataset_ETT_minute,\n",
        "    'custom': Dataset_Custom,\n",
        "    'm4': Dataset_M4,\n",
        "    'PSM': PSMSegLoader,\n",
        "    'MSL': MSLSegLoader,\n",
        "    'SMAP': SMAPSegLoader,\n",
        "    'SMD': SMDSegLoader,\n",
        "    'SWAT': SWATSegLoader,\n",
        "    'UEA': UEAloader\n",
        "}\n",
        "\n",
        "\n",
        "# def data_provider(args, flag):\n",
        "#     Data = data_dict[args.data]  #data_provider\n",
        "\n",
        "#     # time features encoding, options:[timeF, fixed, learned]\n",
        "#     timeenc = 0 if args.embed != 'timeF' else 1\n",
        "\n",
        "#     #test data provider\n",
        "#     if flag == 'test':\n",
        "#         shuffle_flag = False\n",
        "#         drop_last = True\n",
        "#         if args.task_name == 'anomaly_detection' or args.task_name == 'classification':\n",
        "#             batch_size = args.batch_size\n",
        "\n",
        "#         #Some tasks during the testing phase may require evaluating samples one at a time.\n",
        "#         # This could be due to variations in sample sizes in the test data or because the\n",
        "#         # evaluation process demands finer-grained results or different processing.\n",
        "#         else:\n",
        "#             batch_size = 1  # bsz=1 for evaluation\n",
        "\n",
        "#         #freq for time features encoding,\n",
        "#         # options:[s:secondly, t:minutely, h:hourly, d:daily, b:business days, w:weekly,\n",
        "#         #  m:monthly], you can also use more detailed freq like 15min or 3h')\n",
        "#         freq = args.freq\n",
        "#     else:\n",
        "#         shuffle_flag = True\n",
        "#         drop_last = True\n",
        "#         batch_size = args.batch_size  # bsz for train and valid\n",
        "#         freq = args.freq\n",
        "\n",
        "#     if args.task_name == 'anomaly_detection':\n",
        "#         drop_last = False\n",
        "#         data_set = Data(\n",
        "#             root_path=args.root_path, #root path of the data file\n",
        "#             win_size=args.seq_len,    #input sequence length\n",
        "#             flag=flag,\n",
        "#         )\n",
        "#         print(flag, len(data_set))\n",
        "#         data_loader = DataLoader(\n",
        "#             data_set,\n",
        "#             batch_size=batch_size,\n",
        "#             shuffle=shuffle_flag,\n",
        "#             num_workers=args.num_workers,#data loader num workers\n",
        "#             drop_last=drop_last)\n",
        "#         return data_set, data_loader\n",
        "\n",
        "#     elif args.task_name == 'classification':\n",
        "#         drop_last = False\n",
        "#         data_set = Data(\n",
        "#             root_path=args.root_path,\n",
        "#             flag=flag,\n",
        "#         )\n",
        "\n",
        "#         data_loader = DataLoader(\n",
        "#             data_set,\n",
        "#             batch_size=batch_size,\n",
        "#             shuffle=shuffle_flag,\n",
        "#             num_workers=args.num_workers,\n",
        "#             drop_last=drop_last,\n",
        "#             collate_fn=lambda x: collate_fn(x, max_len=args.seq_len)\n",
        "#             #define some limits to collate pieces of data into batches\n",
        "#         )\n",
        "#         return data_set, data_loader\n",
        "#     else:\n",
        "#         if args.data == 'm4':\n",
        "#             drop_last = False\n",
        "#         data_set = Data(\n",
        "#             root_path=args.root_path, #eg.  ./data/ETT/\n",
        "#             data_path=args.data_path, #eg.  ETTh1.csv\n",
        "#             flag=flag,\n",
        "#             size=[args.seq_len, args.label_len, args.pred_len],\n",
        "#             features=args.features,   #forecasting task, options:[M, S, MS];\n",
        "#             # M:multivariate predict multivariate, S:univariate predict univariate,\n",
        "#             # MS:multivariate predict univariate\n",
        "\n",
        "#             target=args.target,       #target feature in S or MS task\n",
        "#             timeenc=timeenc,\n",
        "#             freq=freq,\n",
        "#             seasonal_patterns=args.seasonal_patterns\n",
        "#         )\n",
        "#         print(flag, len(data_set))\n",
        "#         data_loader = DataLoader(\n",
        "#             data_set,\n",
        "#             batch_size=batch_size,\n",
        "#             shuffle=shuffle_flag,\n",
        "#             num_workers=args.num_workers,\n",
        "#             drop_last=drop_last)\n",
        "#         return data_set, data_loader\n"
      ]
    },
    {
      "cell_type": "code",
      "source": [
        "%cd .."
      ],
      "metadata": {
        "id": "9JqFP3yJ0W6w",
        "colab": {
          "base_uri": "https://localhost:8080/"
        },
        "outputId": "85f7e674-a70e-4b8f-c57c-14b1263d2177"
      },
      "execution_count": 44,
      "outputs": [
        {
          "output_type": "stream",
          "name": "stdout",
          "text": [
            "/content/Time-Series-Library\n"
          ]
        }
      ]
    },
    {
      "cell_type": "code",
      "source": [
        "def data_provider(args, flag):\n",
        "    Data = data_dict[args.data]  #data_provider\n",
        "\n",
        "    # time features encoding, options:[timeF, fixed, learned]\n",
        "    timeenc = 0 if args.embed != 'timeF' else 1\n",
        "\n",
        "    #test data provider\n",
        "    if flag == 'test':\n",
        "        shuffle_flag = False\n",
        "        drop_last = True\n",
        "        if args.task_name == 'anomaly_detection' or args.task_name == 'classification':\n",
        "            batch_size = args.batch_size\n",
        "\n",
        "        #Some tasks during the testing phase may require evaluating samples one at a time.\n",
        "        # This could be due to variations in sample sizes in the test data or because the\n",
        "        # evaluation process demands finer-grained results or different processing.\n",
        "        else:\n",
        "            batch_size = 1  # bsz=1 for evaluation\n",
        "\n",
        "        #freq for time features encoding,\n",
        "        # options:[s:secondly, t:minutely, h:hourly, d:daily, b:business days, w:weekly,\n",
        "        #  m:monthly], you can also use more detailed freq like 15min or 3h')\n",
        "        freq = args.freq\n",
        "    else:\n",
        "        shuffle_flag = True\n",
        "        drop_last = True\n",
        "        batch_size = args.batch_size  # bsz for train and valid\n",
        "        freq = args.freq\n",
        "\n",
        "    if args.task_name == 'anomaly_detection':\n",
        "        drop_last = False\n",
        "        data_set = Data(\n",
        "            root_path=args.root_path, #root path of the data file\n",
        "            win_size=args.seq_len,    #input sequence length\n",
        "            flag=flag,\n",
        "        )\n",
        "        print(flag, len(data_set))\n",
        "        data_loader = DataLoader(\n",
        "            data_set,\n",
        "            batch_size=batch_size,\n",
        "            shuffle=shuffle_flag,\n",
        "            num_workers=args.num_workers,#data loader num workers\n",
        "            drop_last=drop_last)\n",
        "        return data_set, data_loader\n",
        "\n",
        "    elif args.task_name == 'classification':\n",
        "        drop_last = False\n",
        "        data_set = Data(\n",
        "            root_path=args.root_path,\n",
        "            flag=flag,\n",
        "        )\n",
        "\n",
        "        data_loader = DataLoader(\n",
        "            data_set,\n",
        "            batch_size=batch_size,\n",
        "            shuffle=shuffle_flag,\n",
        "            num_workers=args.num_workers,\n",
        "            drop_last=drop_last,\n",
        "            collate_fn=lambda x: collate_fn(x, max_len=args.seq_len)\n",
        "            #define some limits to collate pieces of data into batches\n",
        "        )\n",
        "        return data_set, data_loader\n",
        "    else:\n",
        "        if args.data == 'm4':\n",
        "            drop_last = False\n",
        "        data_set = Data(\n",
        "            root_path=args.root_path, #eg.  ./data/ETT/\n",
        "            data_path=args.data_path, #eg.  ETTh1.csv\n",
        "            flag=flag,\n",
        "            size=[args.seq_len, args.label_len, args.pred_len],\n",
        "            features=args.features,   #forecasting task, options:[M, S, MS];\n",
        "            # M:multivariate predict multivariate, S:univariate predict univariate,\n",
        "            # MS:multivariate predict univariate\n",
        "\n",
        "            target=args.target,       #target feature in S or MS task\n",
        "            timeenc=timeenc,\n",
        "            freq=freq,\n",
        "            seasonal_patterns=args.seasonal_patterns\n",
        "        )\n",
        "        print(flag, len(data_set))\n",
        "        data_loader = DataLoader(\n",
        "            data_set,\n",
        "            batch_size=batch_size,\n",
        "            shuffle=shuffle_flag,\n",
        "            num_workers=args.num_workers,\n",
        "            drop_last=drop_last)\n",
        "        return data_set, data_loader\n"
      ],
      "metadata": {
        "id": "2k5O1B3C0Vyt"
      },
      "execution_count": 45,
      "outputs": []
    },
    {
      "cell_type": "markdown",
      "metadata": {
        "id": "d4G00qUk9D6b"
      },
      "source": [
        "From above, it's easy to find that data_provider is responsible for collate the dataset into batches according to different tasks and running mode. It passes the parameters to dataloader(`Data`) to instruct it how to manage a data file into pieces of usable data. Then it also generates the final dara_loader by passing the built-up dataset and some other params to the standard class Dataloader. After that, a dataset that fits the need of the model and a enumerable dataloader are generated.\n",
        "\n",
        "So how to organize the data file into pieces of data that fits the model? Let's see `data_loader.py`! There are many dataloaders in it, and of course you can write your own dataloader, but here we'll only focus on <font color=orange>__class Dataset_ETT_hour(Dataset)__</font> as an example."
      ]
    },
    {
      "cell_type": "code",
      "source": [],
      "metadata": {
        "id": "LHHjDTwjzVcM"
      },
      "execution_count": null,
      "outputs": []
    },
    {
      "cell_type": "code",
      "execution_count": 46,
      "metadata": {
        "id": "rriteF7a9D6b"
      },
      "outputs": [],
      "source": [
        "class Dataset_ETT_hour(Dataset):\n",
        "        def __init__(self, root_path, flag='train', size=None,\n",
        "                 features='S', data_path='ETTh1.csv',\n",
        "                 target='OT', scale=True, timeenc=0, freq='h', seasonal_patterns=None):\n",
        "                ...\n",
        "        def __read_data__(self):\n",
        "                ...\n",
        "        def __getitem__(self, index):\n",
        "                ...\n",
        "\n",
        "        def __len__(self):\n",
        "                ...\n",
        "\n",
        "        def inverse_transform(self, data):\n",
        "                ..."
      ]
    },
    {
      "cell_type": "markdown",
      "metadata": {
        "id": "6dJzZgbG9D6b"
      },
      "source": [
        "`__init__()`  is the constructor used to initialize various parameters and attributes of the dataset. It takes a series of arguments, including the path to the data file, the dataset's flag (e.g., train, validate, test), dataset size, feature type, target variable, whether to scale the data, time encoding, time frequency, and more. These parameters are used to configure how the dataset is loaded and processed."
      ]
    },
    {
      "cell_type": "code",
      "execution_count": 47,
      "metadata": {
        "id": "M0R9xNcN9D6c"
      },
      "outputs": [],
      "source": [
        "def __init__(self, root_path, flag='train', size=None,\n",
        "             features='S', data_path='ETTh1.csv',\n",
        "             target='OT', scale=True, timeenc=0, freq='h', seasonal_patterns=None):\n",
        "    # size [seq_len, label_len, pred_len]\n",
        "    # info\n",
        "    if size == None:\n",
        "        self.seq_len = 24 * 4 * 4\n",
        "        self.label_len = 24 * 4\n",
        "        self.pred_len = 24 * 4\n",
        "    else:\n",
        "        self.seq_len = size[0]\n",
        "        self.label_len = size[1]\n",
        "        self.pred_len = size[2]\n",
        "    # init\n",
        "    assert flag in ['train', 'test', 'val']\n",
        "    type_map = {'train': 0, 'val': 1, 'test': 2}\n",
        "    self.set_type = type_map[flag]\n",
        "    self.features = features\n",
        "    self.target = target\n",
        "    self.scale = scale\n",
        "    self.timeenc = timeenc\n",
        "    self.freq = freq\n",
        "    self.root_path = root_path\n",
        "    self.data_path = data_path\n",
        "\n",
        "    # After initialization, call __read_data__() to manage the data file.\n",
        "    self.__read_data__()"
      ]
    },
    {
      "cell_type": "markdown",
      "metadata": {
        "id": "HFoXs5eQ9D6c"
      },
      "source": [
        "The actual process of managing data file into usable data pieces happens in `__read_data__()`, see below:"
      ]
    },
    {
      "cell_type": "code",
      "execution_count": 48,
      "metadata": {
        "id": "EdcoIE-b9D6c"
      },
      "outputs": [],
      "source": [
        "def __read_data__(self):\n",
        "    self.scaler = StandardScaler()\n",
        "\n",
        "    #get raw data from path\n",
        "    df_raw = pd.read_csv(os.path.join(self.root_path,\n",
        "                                      self.data_path))\n",
        "\n",
        "    # split data set into train, vali, test. border1 is the left border and border2 is the right.\n",
        "    # Once flag(train, vali, test) is determined, __read_data__ will return certain part of the dataset.\n",
        "    border1s = [0, 12 * 30 * 24 - self.seq_len, 12 * 30 * 24 + 4 * 30 * 24 - self.seq_len]\n",
        "    border2s = [12 * 30 * 24, 12 * 30 * 24 + 4 * 30 * 24, 12 * 30 * 24 + 8 * 30 * 24]\n",
        "    border1 = border1s[self.set_type]\n",
        "    border2 = border2s[self.set_type]\n",
        "\n",
        "    #decide which columns to select\n",
        "    if self.features == 'M' or self.features == 'MS':\n",
        "        cols_data = df_raw.columns[1:] # column name list (remove 'date')\n",
        "        df_data = df_raw[cols_data]  #remove the first column, which is time stamp info\n",
        "    elif self.features == 'S':\n",
        "        df_data = df_raw[[self.target]] # target column\n",
        "\n",
        "    #scale data by the scaler that fits training data\n",
        "    if self.scale:\n",
        "        train_data = df_data[border1s[0]:border2s[0]]\n",
        "        #train_data.values: turn pandas DataFrame into 2D numpy\n",
        "        self.scaler.fit(train_data.values)\n",
        "        data = self.scaler.transform(df_data.values)\n",
        "    else:\n",
        "        data = df_data.values\n",
        "\n",
        "    #time stamp:df_stamp is a object of <class 'pandas.core.frame.DataFrame'> and\n",
        "    # has one column called 'date' like 2016-07-01 00:00:00\n",
        "    df_stamp = df_raw[['date']][border1:border2]\n",
        "\n",
        "    # Since the date format is uncertain across different data file, we need to\n",
        "    # standardize it so we call func 'pd.to_datetime'\n",
        "    df_stamp['date'] = pd.to_datetime(df_stamp.date)\n",
        "\n",
        "    if self.timeenc == 0:  #time feature encoding is fixed or learned\n",
        "        df_stamp['month'] = df_stamp.date.apply(lambda row: row.month, 1)\n",
        "        df_stamp['day'] = df_stamp.date.apply(lambda row: row.day, 1)\n",
        "        df_stamp['weekday'] = df_stamp.date.apply(lambda row: row.weekday(), 1)\n",
        "        df_stamp['hour'] = df_stamp.date.apply(lambda row: row.hour, 1)\n",
        "        #now df_frame has multiple columns recording the month, day etc. time stamp\n",
        "        # next we delete the 'date' column and turn 'DataFrame' to a list\n",
        "        data_stamp = df_stamp.drop(['date'], 1).values\n",
        "\n",
        "    elif self.timeenc == 1: #time feature encoding is timeF\n",
        "        '''\n",
        "         when entering this branch, we choose arg.embed as timeF meaning we want to\n",
        "         encode the temporal info. 'freq' should be the smallest time step, and has\n",
        "          options:[s:secondly, t:minutely, h:hourly, d:daily, b:business days, w:weekly, m:monthly], you can also use more detailed freq like 15min or 3h')\n",
        "         So you should check the timestep of your data and set 'freq' arg.\n",
        "         After the time_features encoding, each date info format will be encoded into\n",
        "         a list, with each element denoting the relative position of this time point\n",
        "         (e.g. Day of Week, Day of Month, Hour of Day) and each normalized within scope[-0.5, 0.5]\n",
        "         '''\n",
        "        data_stamp = time_features(pd.to_datetime(df_stamp['date'].values), freq=self.freq)\n",
        "        data_stamp = data_stamp.transpose(1, 0)\n",
        "\n",
        "\n",
        "    # data_x and data_y are same copy of a certain part of data\n",
        "    self.data_x = data[border1:border2]\n",
        "    self.data_y = data[border1:border2]\n",
        "    self.data_stamp = data_stamp"
      ]
    },
    {
      "cell_type": "markdown",
      "metadata": {
        "id": "CxPqdo_E9D6c"
      },
      "source": [
        "`__read_data__()` splits the dataset into 3 parts, selects the needed columns and manages time stamp info. It gives out the well-managed data array for later use. Next, we have to finish the overload of <font color=orange>__class Dataset__</font>, see `__getitem__(self, index)` and `__len__(self)`:"
      ]
    },
    {
      "cell_type": "code",
      "execution_count": 49,
      "metadata": {
        "id": "KCEjrmoG9D6c"
      },
      "outputs": [],
      "source": [
        "def __getitem__(self, index):\n",
        "    #given an index, calculate the positions after this index to truncate the dataset\n",
        "    s_begin = index\n",
        "    s_end = s_begin + self.seq_len\n",
        "    r_begin = s_end - self.label_len\n",
        "    r_end = r_begin + self.label_len + self.pred_len\n",
        "\n",
        "    #input and output sequence\n",
        "    seq_x = self.data_x[s_begin:s_end]\n",
        "    seq_y = self.data_y[r_begin:r_end]\n",
        "\n",
        "    #time mark\n",
        "    seq_x_mark = self.data_stamp[s_begin:s_end]\n",
        "    seq_y_mark = self.data_stamp[r_begin:r_end]\n",
        "\n",
        "    return seq_x, seq_y, seq_x_mark, seq_y_mark\n",
        "\n",
        "def __len__(self):\n",
        "    return len(self.data_x) - self.seq_len - self.pred_len + 1"
      ]
    },
    {
      "cell_type": "markdown",
      "metadata": {
        "id": "d121WkXw9D6c"
      },
      "source": [
        "You can also add an inverse_transform for scaler if needed."
      ]
    },
    {
      "cell_type": "code",
      "execution_count": 50,
      "metadata": {
        "id": "zcLM0tk99D6c"
      },
      "outputs": [],
      "source": [
        "def inverse_transform(self, data):\n",
        "    return self.scaler.inverse_transform(data)"
      ]
    },
    {
      "cell_type": "markdown",
      "metadata": {
        "id": "fZlDjoaI9D6c"
      },
      "source": [
        "By now, we have finished constructing the dataset and dataloader. If you want to construct your own data and run it on the net, you can find proper data and try to accomplish the functions listed above. Here are some widely used datasets in times series analysis.\n",
        "\n",
        "![common dataset](./dataset.png)"
      ]
    },
    {
      "cell_type": "markdown",
      "metadata": {
        "id": "tgbBbuDd9D6d"
      },
      "source": [
        "### 8. Running the Experiment and Visualizing Result\n",
        "\n",
        "After managing the data, model well, we need to write a shell script for the experiment. In the script, we need to run `run.py` with several arguments, which is part of the configuration. Here, let's see `TimesNet` on task long-term forecast with dataset ETTh1 for example."
      ]
    },
    {
      "cell_type": "code",
      "execution_count": null,
      "metadata": {
        "vscode": {
          "languageId": "shellscript"
        },
        "id": "OMjYursB9D6d"
      },
      "outputs": [],
      "source": [
        "# model_name=TimesNet\n",
        "\n",
        "\n",
        "# python -u run.py \\\n",
        "#   --task_name long_term_forecast \\\n",
        "#   --is_training 1 \\\n",
        "#   --root_path ./dataset/ETT-small/ \\\n",
        "#   --data_path ETTh1.csv \\\n",
        "#   --model_id ETTh1_96_96 \\\n",
        "#   --model $model_name \\\n",
        "#   --data ETTh1 \\\n",
        "#   --features M \\\n",
        "#   --seq_len 96 \\\n",
        "#   --label_len 48 \\\n",
        "#   --pred_len 96 \\\n",
        "#   --e_layers 2 \\\n",
        "#   --d_layers 1 \\\n",
        "#   --factor 3 \\\n",
        "#   --enc_in 7 \\\n",
        "#   --dec_in 7 \\\n",
        "#   --c_out 7 \\\n",
        "#   --d_model 16 \\\n",
        "#   --d_ff 32 \\\n",
        "#   --des 'Exp' \\\n",
        "#   --itr 1 \\\n",
        "#   --top_k 5\n",
        "\n",
        "import subprocess\n",
        "\n",
        "model_name = \"TimesNet\"\n",
        "\n",
        "# Construct the command as a list of strings\n",
        "command = [\n",
        "    \"python\", \"-u\", \"run.py\",\n",
        "    \"--task_name\", \"long_term_forecast\",\n",
        "    \"--is_training\", \"1\",\n",
        "    \"--root_path\", \"./dataset/ETT-small/\",\n",
        "    \"--data_path\", \"ETTh1.csv\",\n",
        "    \"--model_id\", \"ETTh1_96_96\",\n",
        "    \"--model\", model_name,\n",
        "    \"--data\", \"ETTh1\",\n",
        "    \"--features\", \"M\",\n",
        "    \"--seq_len\", \"96\",\n",
        "    \"--label_len\", \"48\",\n",
        "    \"--pred_len\", \"96\",\n",
        "    \"--e_layers\", \"2\",\n",
        "    \"--d_layers\", \"1\",\n",
        "    \"--factor\", \"3\",\n",
        "    \"--enc_in\", \"7\",\n",
        "    \"--dec_in\", \"7\",\n",
        "    \"--c_out\", \"7\",\n",
        "    \"--d_model\", \"16\",\n",
        "    \"--d_ff\", \"32\",\n",
        "    \"--des\", \"Exp\",\n",
        "    \"--itr\", \"1\",\n",
        "    \"--top_k\", \"5\"\n",
        "]\n",
        "\n",
        "# Execute the command\n",
        "subprocess.run(command)\n",
        "\n"
      ]
    },
    {
      "cell_type": "markdown",
      "metadata": {
        "id": "HSdffoE_9D6d"
      },
      "source": [
        "After finishing the shell script, you can run it in shell using bash. For example, you can run the following command, for `TimesNet` ETTh1 long-term forecast:"
      ]
    },
    {
      "cell_type": "markdown",
      "source": [],
      "metadata": {
        "id": "IyIpesWyiPAU"
      }
    },
    {
      "cell_type": "code",
      "source": [
        "torch.cuda.is_available()"
      ],
      "metadata": {
        "colab": {
          "base_uri": "https://localhost:8080/"
        },
        "id": "bHLbk9yMAU25",
        "outputId": "e9fcf1f2-9d5a-475e-a88d-a4d7bb505e1b"
      },
      "execution_count": 51,
      "outputs": [
        {
          "output_type": "execute_result",
          "data": {
            "text/plain": [
              "True"
            ]
          },
          "metadata": {},
          "execution_count": 51
        }
      ]
    },
    {
      "cell_type": "code",
      "source": [
        "torch.cuda"
      ],
      "metadata": {
        "colab": {
          "base_uri": "https://localhost:8080/"
        },
        "id": "VtHQqFCFAaaV",
        "outputId": "29848f42-2126-4e2c-9671-2ba55d70cf7b"
      },
      "execution_count": 52,
      "outputs": [
        {
          "output_type": "execute_result",
          "data": {
            "text/plain": [
              "<module 'torch.cuda' from '/usr/local/lib/python3.10/dist-packages/torch/cuda/__init__.py'>"
            ]
          },
          "metadata": {},
          "execution_count": 52
        }
      ]
    },
    {
      "cell_type": "code",
      "source": [
        "import torch\n",
        "\n",
        "# Check if CUDA is available\n",
        "cuda_available = torch.cuda.is_available()\n",
        "print(f\"CUDA available: {cuda_available}\")\n",
        "\n",
        "# List all available GPUs\n",
        "if cuda_available:\n",
        "    num_gpus = torch.cuda.device_count()\n",
        "    print(f\"Number of GPUs available: {num_gpus}\")\n",
        "    for i in range(num_gpus):\n",
        "        print(f\"GPU {i}: {torch.cuda.get_device_name(i)}\")\n"
      ],
      "metadata": {
        "colab": {
          "base_uri": "https://localhost:8080/"
        },
        "id": "XDcosirbA4IK",
        "outputId": "f7b20d85-99bf-4ba0-8415-bdd2ee33e027"
      },
      "execution_count": 53,
      "outputs": [
        {
          "output_type": "stream",
          "name": "stdout",
          "text": [
            "CUDA available: True\n",
            "Number of GPUs available: 1\n",
            "GPU 0: Tesla T4\n"
          ]
        }
      ]
    },
    {
      "cell_type": "code",
      "execution_count": 54,
      "metadata": {
        "vscode": {
          "languageId": "shellscript"
        },
        "colab": {
          "base_uri": "https://localhost:8080/"
        },
        "id": "PqSJMf9a9D6d",
        "outputId": "003416ee-a35c-493f-8e89-5565cb2336c0"
      },
      "outputs": [
        {
          "output_type": "stream",
          "name": "stdout",
          "text": [
            "bash: /content/scripts/long_term_forecast/ETT_script/TimesNet_ETTh1.sh: No such file or directory\n"
          ]
        }
      ],
      "source": [
        "!bash /content/scripts/long_term_forecast/ETT_script/TimesNet_ETTh1.sh"
      ]
    },
    {
      "cell_type": "markdown",
      "metadata": {
        "id": "uyqOkRsS9D6d"
      },
      "source": [
        "Here, the bash command may not be successfully implemented due to a lack of proper packages in the environment. If that's the case, simply follow the error information to install the missing package step by step until you achieve success. The sign of a successful experiment running is that information about the experiment is printed out, such as:"
      ]
    },
    {
      "cell_type": "code",
      "source": [
        "!ls"
      ],
      "metadata": {
        "colab": {
          "base_uri": "https://localhost:8080/"
        },
        "id": "8taLasANx9B3",
        "outputId": "075ebe61-c3f1-4f52-d172-9197729efc2b"
      },
      "execution_count": null,
      "outputs": [
        {
          "output_type": "stream",
          "name": "stdout",
          "text": [
            "data_provider  exp     LICENSE\tpic\t   requirements.txt  scripts   utils\n",
            "dataset        layers  models\tREADME.md  run.py\t     tutorial\n"
          ]
        }
      ]
    },
    {
      "cell_type": "code",
      "source": [
        "%cd .."
      ],
      "metadata": {
        "colab": {
          "base_uri": "https://localhost:8080/"
        },
        "id": "9EAv9kw7jzcP",
        "outputId": "f62ee8ed-a27d-41cb-96c1-b3a1c29f6b42"
      },
      "execution_count": null,
      "outputs": [
        {
          "output_type": "stream",
          "name": "stdout",
          "text": [
            "/content/Time-Series-Library\n"
          ]
        }
      ]
    },
    {
      "cell_type": "code",
      "source": [
        "!ls"
      ],
      "metadata": {
        "colab": {
          "base_uri": "https://localhost:8080/"
        },
        "id": "OX2XJzF1j2N7",
        "outputId": "b937f733-4f35-4110-864f-6d9400ef84ca"
      },
      "execution_count": null,
      "outputs": [
        {
          "output_type": "stream",
          "name": "stdout",
          "text": [
            "data_provider  exp     LICENSE\tpic\t   requirements.txt  scripts   utils\n",
            "dataset        layers  models\tREADME.md  run.py\t     tutorial\n"
          ]
        }
      ]
    },
    {
      "cell_type": "code",
      "source": [
        "pip install einops reformer_pytorch"
      ],
      "metadata": {
        "colab": {
          "base_uri": "https://localhost:8080/"
        },
        "id": "g3CuJ6BUmRU0",
        "outputId": "a4b7f465-2d5d-461b-f57a-82c788c5d410"
      },
      "execution_count": 55,
      "outputs": [
        {
          "output_type": "stream",
          "name": "stdout",
          "text": [
            "Collecting einops\n",
            "  Downloading einops-0.7.0-py3-none-any.whl (44 kB)\n",
            "\u001b[?25l     \u001b[90m━━━━━━━━━━━━━━━━━━━━━━━━━━━━━━━━━━━━━━━━\u001b[0m \u001b[32m0.0/44.6 kB\u001b[0m \u001b[31m?\u001b[0m eta \u001b[36m-:--:--\u001b[0m\r\u001b[2K     \u001b[90m━━━━━━━━━━━━━━━━━━━━━━━━━━━━━━━━━━━━━━━━\u001b[0m \u001b[32m44.6/44.6 kB\u001b[0m \u001b[31m2.1 MB/s\u001b[0m eta \u001b[36m0:00:00\u001b[0m\n",
            "\u001b[?25hCollecting reformer_pytorch\n",
            "  Using cached reformer_pytorch-1.4.4-py3-none-any.whl (16 kB)\n",
            "Collecting axial-positional-embedding>=0.1.0 (from reformer_pytorch)\n",
            "  Downloading axial_positional_embedding-0.2.1.tar.gz (2.6 kB)\n",
            "  Preparing metadata (setup.py) ... \u001b[?25l\u001b[?25hdone\n",
            "Collecting local-attention (from reformer_pytorch)\n",
            "  Downloading local_attention-1.9.0-py3-none-any.whl (8.2 kB)\n",
            "Collecting product-key-memory (from reformer_pytorch)\n",
            "  Downloading product_key_memory-0.2.10-py3-none-any.whl (6.4 kB)\n",
            "Requirement already satisfied: torch in /usr/local/lib/python3.10/dist-packages (from reformer_pytorch) (2.2.1+cu121)\n",
            "Collecting colt5-attention>=0.10.14 (from product-key-memory->reformer_pytorch)\n",
            "  Downloading CoLT5_attention-0.10.20-py3-none-any.whl (18 kB)\n",
            "Requirement already satisfied: filelock in /usr/local/lib/python3.10/dist-packages (from torch->reformer_pytorch) (3.13.3)\n",
            "Requirement already satisfied: typing-extensions>=4.8.0 in /usr/local/lib/python3.10/dist-packages (from torch->reformer_pytorch) (4.10.0)\n",
            "Requirement already satisfied: sympy in /usr/local/lib/python3.10/dist-packages (from torch->reformer_pytorch) (1.12)\n",
            "Requirement already satisfied: networkx in /usr/local/lib/python3.10/dist-packages (from torch->reformer_pytorch) (3.2.1)\n",
            "Requirement already satisfied: jinja2 in /usr/local/lib/python3.10/dist-packages (from torch->reformer_pytorch) (3.1.3)\n",
            "Requirement already satisfied: fsspec in /usr/local/lib/python3.10/dist-packages (from torch->reformer_pytorch) (2023.6.0)\n",
            "Collecting nvidia-cuda-nvrtc-cu12==12.1.105 (from torch->reformer_pytorch)\n",
            "  Downloading nvidia_cuda_nvrtc_cu12-12.1.105-py3-none-manylinux1_x86_64.whl (23.7 MB)\n",
            "\u001b[2K     \u001b[90m━━━━━━━━━━━━━━━━━━━━━━━━━━━━━━━━━━━━━━━━\u001b[0m \u001b[32m23.7/23.7 MB\u001b[0m \u001b[31m66.0 MB/s\u001b[0m eta \u001b[36m0:00:00\u001b[0m\n",
            "\u001b[?25hCollecting nvidia-cuda-runtime-cu12==12.1.105 (from torch->reformer_pytorch)\n",
            "  Downloading nvidia_cuda_runtime_cu12-12.1.105-py3-none-manylinux1_x86_64.whl (823 kB)\n",
            "\u001b[2K     \u001b[90m━━━━━━━━━━━━━━━━━━━━━━━━━━━━━━━━━━━━━━━━\u001b[0m \u001b[32m823.6/823.6 kB\u001b[0m \u001b[31m60.8 MB/s\u001b[0m eta \u001b[36m0:00:00\u001b[0m\n",
            "\u001b[?25hCollecting nvidia-cuda-cupti-cu12==12.1.105 (from torch->reformer_pytorch)\n",
            "  Downloading nvidia_cuda_cupti_cu12-12.1.105-py3-none-manylinux1_x86_64.whl (14.1 MB)\n",
            "\u001b[2K     \u001b[90m━━━━━━━━━━━━━━━━━━━━━━━━━━━━━━━━━━━━━━━━\u001b[0m \u001b[32m14.1/14.1 MB\u001b[0m \u001b[31m96.6 MB/s\u001b[0m eta \u001b[36m0:00:00\u001b[0m\n",
            "\u001b[?25hCollecting nvidia-cudnn-cu12==8.9.2.26 (from torch->reformer_pytorch)\n",
            "  Downloading nvidia_cudnn_cu12-8.9.2.26-py3-none-manylinux1_x86_64.whl (731.7 MB)\n",
            "\u001b[2K     \u001b[90m━━━━━━━━━━━━━━━━━━━━━━━━━━━━━━━━━━━━━━━━\u001b[0m \u001b[32m731.7/731.7 MB\u001b[0m \u001b[31m2.3 MB/s\u001b[0m eta \u001b[36m0:00:00\u001b[0m\n",
            "\u001b[?25hCollecting nvidia-cublas-cu12==12.1.3.1 (from torch->reformer_pytorch)\n",
            "  Downloading nvidia_cublas_cu12-12.1.3.1-py3-none-manylinux1_x86_64.whl (410.6 MB)\n",
            "\u001b[2K     \u001b[90m━━━━━━━━━━━━━━━━━━━━━━━━━━━━━━━━━━━━━━━━\u001b[0m \u001b[32m410.6/410.6 MB\u001b[0m \u001b[31m2.8 MB/s\u001b[0m eta \u001b[36m0:00:00\u001b[0m\n",
            "\u001b[?25hCollecting nvidia-cufft-cu12==11.0.2.54 (from torch->reformer_pytorch)\n",
            "  Downloading nvidia_cufft_cu12-11.0.2.54-py3-none-manylinux1_x86_64.whl (121.6 MB)\n",
            "\u001b[2K     \u001b[90m━━━━━━━━━━━━━━━━━━━━━━━━━━━━━━━━━━━━━━━━\u001b[0m \u001b[32m121.6/121.6 MB\u001b[0m \u001b[31m8.3 MB/s\u001b[0m eta \u001b[36m0:00:00\u001b[0m\n",
            "\u001b[?25hCollecting nvidia-curand-cu12==10.3.2.106 (from torch->reformer_pytorch)\n",
            "  Downloading nvidia_curand_cu12-10.3.2.106-py3-none-manylinux1_x86_64.whl (56.5 MB)\n",
            "\u001b[2K     \u001b[90m━━━━━━━━━━━━━━━━━━━━━━━━━━━━━━━━━━━━━━━━\u001b[0m \u001b[32m56.5/56.5 MB\u001b[0m \u001b[31m11.9 MB/s\u001b[0m eta \u001b[36m0:00:00\u001b[0m\n",
            "\u001b[?25hCollecting nvidia-cusolver-cu12==11.4.5.107 (from torch->reformer_pytorch)\n",
            "  Downloading nvidia_cusolver_cu12-11.4.5.107-py3-none-manylinux1_x86_64.whl (124.2 MB)\n",
            "\u001b[2K     \u001b[90m━━━━━━━━━━━━━━━━━━━━━━━━━━━━━━━━━━━━━━━━\u001b[0m \u001b[32m124.2/124.2 MB\u001b[0m \u001b[31m8.4 MB/s\u001b[0m eta \u001b[36m0:00:00\u001b[0m\n",
            "\u001b[?25hCollecting nvidia-cusparse-cu12==12.1.0.106 (from torch->reformer_pytorch)\n",
            "  Downloading nvidia_cusparse_cu12-12.1.0.106-py3-none-manylinux1_x86_64.whl (196.0 MB)\n",
            "\u001b[2K     \u001b[90m━━━━━━━━━━━━━━━━━━━━━━━━━━━━━━━━━━━━━━━━\u001b[0m \u001b[32m196.0/196.0 MB\u001b[0m \u001b[31m6.8 MB/s\u001b[0m eta \u001b[36m0:00:00\u001b[0m\n",
            "\u001b[?25hCollecting nvidia-nccl-cu12==2.19.3 (from torch->reformer_pytorch)\n",
            "  Downloading nvidia_nccl_cu12-2.19.3-py3-none-manylinux1_x86_64.whl (166.0 MB)\n",
            "\u001b[2K     \u001b[90m━━━━━━━━━━━━━━━━━━━━━━━━━━━━━━━━━━━━━━━━\u001b[0m \u001b[32m166.0/166.0 MB\u001b[0m \u001b[31m2.1 MB/s\u001b[0m eta \u001b[36m0:00:00\u001b[0m\n",
            "\u001b[?25hCollecting nvidia-nvtx-cu12==12.1.105 (from torch->reformer_pytorch)\n",
            "  Downloading nvidia_nvtx_cu12-12.1.105-py3-none-manylinux1_x86_64.whl (99 kB)\n",
            "\u001b[2K     \u001b[90m━━━━━━━━━━━━━━━━━━━━━━━━━━━━━━━━━━━━━━━━\u001b[0m \u001b[32m99.1/99.1 kB\u001b[0m \u001b[31m13.9 MB/s\u001b[0m eta \u001b[36m0:00:00\u001b[0m\n",
            "\u001b[?25hRequirement already satisfied: triton==2.2.0 in /usr/local/lib/python3.10/dist-packages (from torch->reformer_pytorch) (2.2.0)\n",
            "Collecting nvidia-nvjitlink-cu12 (from nvidia-cusolver-cu12==11.4.5.107->torch->reformer_pytorch)\n",
            "  Downloading nvidia_nvjitlink_cu12-12.4.99-py3-none-manylinux2014_x86_64.whl (21.1 MB)\n",
            "\u001b[2K     \u001b[90m━━━━━━━━━━━━━━━━━━━━━━━━━━━━━━━━━━━━━━━━\u001b[0m \u001b[32m21.1/21.1 MB\u001b[0m \u001b[31m37.3 MB/s\u001b[0m eta \u001b[36m0:00:00\u001b[0m\n",
            "\u001b[?25hRequirement already satisfied: packaging in /usr/local/lib/python3.10/dist-packages (from colt5-attention>=0.10.14->product-key-memory->reformer_pytorch) (24.0)\n",
            "Requirement already satisfied: MarkupSafe>=2.0 in /usr/local/lib/python3.10/dist-packages (from jinja2->torch->reformer_pytorch) (2.1.5)\n",
            "Requirement already satisfied: mpmath>=0.19 in /usr/local/lib/python3.10/dist-packages (from sympy->torch->reformer_pytorch) (1.3.0)\n",
            "Building wheels for collected packages: axial-positional-embedding\n",
            "  Building wheel for axial-positional-embedding (setup.py) ... \u001b[?25l\u001b[?25hdone\n",
            "  Created wheel for axial-positional-embedding: filename=axial_positional_embedding-0.2.1-py3-none-any.whl size=2882 sha256=5c6fc50e1a19bac9a220eee1128d07b23d85d079dd614e2635d83b216f1c6c99\n",
            "  Stored in directory: /root/.cache/pip/wheels/b1/cb/39/7ce7ff2d2fd37cfe1fe7b3a3c43cf410632b2ad3b3f3986d73\n",
            "Successfully built axial-positional-embedding\n",
            "Installing collected packages: nvidia-nvtx-cu12, nvidia-nvjitlink-cu12, nvidia-nccl-cu12, nvidia-curand-cu12, nvidia-cufft-cu12, nvidia-cuda-runtime-cu12, nvidia-cuda-nvrtc-cu12, nvidia-cuda-cupti-cu12, nvidia-cublas-cu12, einops, nvidia-cusparse-cu12, nvidia-cudnn-cu12, nvidia-cusolver-cu12, local-attention, axial-positional-embedding, colt5-attention, product-key-memory, reformer_pytorch\n",
            "Successfully installed axial-positional-embedding-0.2.1 colt5-attention-0.10.20 einops-0.7.0 local-attention-1.9.0 nvidia-cublas-cu12-12.1.3.1 nvidia-cuda-cupti-cu12-12.1.105 nvidia-cuda-nvrtc-cu12-12.1.105 nvidia-cuda-runtime-cu12-12.1.105 nvidia-cudnn-cu12-8.9.2.26 nvidia-cufft-cu12-11.0.2.54 nvidia-curand-cu12-10.3.2.106 nvidia-cusolver-cu12-11.4.5.107 nvidia-cusparse-cu12-12.1.0.106 nvidia-nccl-cu12-2.19.3 nvidia-nvjitlink-cu12-12.4.99 nvidia-nvtx-cu12-12.1.105 product-key-memory-0.2.10 reformer_pytorch-1.4.4\n"
          ]
        }
      ]
    },
    {
      "cell_type": "code",
      "source": [
        "torch.cuda.is_available()"
      ],
      "metadata": {
        "colab": {
          "base_uri": "https://localhost:8080/",
          "height": 146
        },
        "id": "QY-TdbmI9Dsj",
        "outputId": "a4714048-ebbb-45c2-c2a1-75c948a8fd59"
      },
      "execution_count": 1,
      "outputs": [
        {
          "output_type": "error",
          "ename": "NameError",
          "evalue": "name 'torch' is not defined",
          "traceback": [
            "\u001b[0;31m---------------------------------------------------------------------------\u001b[0m",
            "\u001b[0;31mNameError\u001b[0m                                 Traceback (most recent call last)",
            "\u001b[0;32m<ipython-input-1-2eaca526b1e6>\u001b[0m in \u001b[0;36m<cell line: 1>\u001b[0;34m()\u001b[0m\n\u001b[0;32m----> 1\u001b[0;31m \u001b[0mtorch\u001b[0m\u001b[0;34m.\u001b[0m\u001b[0mcuda\u001b[0m\u001b[0;34m.\u001b[0m\u001b[0mis_available\u001b[0m\u001b[0;34m(\u001b[0m\u001b[0;34m)\u001b[0m\u001b[0;34m\u001b[0m\u001b[0;34m\u001b[0m\u001b[0m\n\u001b[0m",
            "\u001b[0;31mNameError\u001b[0m: name 'torch' is not defined"
          ]
        }
      ]
    },
    {
      "cell_type": "code",
      "source": [
        "!bash /content/Time-Series-Library/scripts/long_term_forecast/ETT_script/TimesNet_ETTh1.sh"
      ],
      "metadata": {
        "colab": {
          "base_uri": "https://localhost:8080/"
        },
        "id": "zTj7y8iRiro4",
        "outputId": "bb8b1e63-bd3a-4eb9-8309-5a4a897a0672"
      },
      "execution_count": 57,
      "outputs": [
        {
          "output_type": "stream",
          "name": "stdout",
          "text": [
            "Args in experiment:\n",
            "\u001b[1mBasic Config\u001b[0m\n",
            "  Task Name:          long_term_forecast  Is Training:        1                   \n",
            "  Model ID:           ETTh1_96_96         Model:              TimesNet            \n",
            "\n",
            "\u001b[1mData Loader\u001b[0m\n",
            "  Data:               ETTh1               Root Path:          ./dataset/ETT-small/\n",
            "  Data Path:          ETTh1.csv           Features:           M                   \n",
            "  Target:             OT                  Freq:               h                   \n",
            "  Checkpoints:        ./checkpoints/      \n",
            "\n",
            "\u001b[1mForecasting Task\u001b[0m\n",
            "  Seq Len:            96                  Label Len:          48                  \n",
            "  Pred Len:           96                  Seasonal Patterns:  Monthly             \n",
            "  Inverse:            0                   \n",
            "\n",
            "\u001b[1mModel Parameters\u001b[0m\n",
            "  Top k:              5                   Num Kernels:        6                   \n",
            "  Enc In:             7                   Dec In:             7                   \n",
            "  C Out:              7                   d model:            16                  \n",
            "  n heads:            8                   e layers:           2                   \n",
            "  d layers:           1                   d FF:               32                  \n",
            "  Moving Avg:         25                  Factor:             3                   \n",
            "  Distil:             1                   Dropout:            0.1                 \n",
            "  Embed:              timeF               Activation:         gelu                \n",
            "  Output Attention:   0                   \n",
            "\n",
            "\u001b[1mRun Parameters\u001b[0m\n",
            "  Num Workers:        10                  Itr:                1                   \n",
            "  Train Epochs:       10                  Batch Size:         32                  \n",
            "  Patience:           3                   Learning Rate:      0.0001              \n",
            "  Des:                Exp                 Loss:               MSE                 \n",
            "  Lradj:              type1               Use Amp:            0                   \n",
            "\n",
            "\u001b[1mGPU\u001b[0m\n",
            "  Use GPU:            1                   GPU:                0                   \n",
            "  Use Multi GPU:      0                   Devices:            0,1,2,3             \n",
            "\n",
            "\u001b[1mDe-stationary Projector Params\u001b[0m\n",
            "  P Hidden Dims:      128, 128            P Hidden Layers:    2                   \n",
            "\n",
            "Use GPU: cuda:0\n",
            ">>>>>>>start training : long_term_forecast_ETTh1_96_96_TimesNet_ETTh1_ftM_sl96_ll48_pl96_dm16_nh8_el2_dl1_df32_fc3_ebtimeF_dtTrue_Exp_0>>>>>>>>>>>>>>>>>>>>>>>>>>\n",
            "train 8449\n",
            "val 2785\n",
            "test 2785\n",
            "\titers: 100, epoch: 1 | loss: 0.4701942\n",
            "\tspeed: 0.1746s/iter; left time: 443.5541s\n",
            "\titers: 200, epoch: 1 | loss: 0.4496166\n",
            "\tspeed: 0.0788s/iter; left time: 192.4247s\n",
            "Epoch: 1 cost time: 29.97244954109192\n",
            "Epoch: 1, Steps: 264 | Train Loss: 0.4964177 Vali Loss: 0.8412059 Test Loss: 0.4290482\n",
            "Validation loss decreased (inf --> 0.841206).  Saving model ...\n",
            "Updating learning rate to 0.0001\n",
            "\titers: 100, epoch: 2 | loss: 0.4119692\n",
            "\tspeed: 0.7445s/iter; left time: 1695.1758s\n",
            "\titers: 200, epoch: 2 | loss: 0.3616734\n",
            "\tspeed: 0.0639s/iter; left time: 139.1892s\n",
            "Epoch: 2 cost time: 18.672288417816162\n",
            "Epoch: 2, Steps: 264 | Train Loss: 0.3958639 Vali Loss: 0.8108701 Test Loss: 0.3944263\n",
            "Validation loss decreased (0.841206 --> 0.810870).  Saving model ...\n",
            "Updating learning rate to 5e-05\n",
            "\titers: 100, epoch: 3 | loss: 0.3439764\n",
            "\tspeed: 0.7466s/iter; left time: 1502.8872s\n",
            "\titers: 200, epoch: 3 | loss: 0.3324391\n",
            "\tspeed: 0.0727s/iter; left time: 139.1588s\n",
            "Epoch: 3 cost time: 18.976795196533203\n",
            "Epoch: 3, Steps: 264 | Train Loss: 0.3779120 Vali Loss: 0.7864024 Test Loss: 0.3897720\n",
            "Validation loss decreased (0.810870 --> 0.786402).  Saving model ...\n",
            "Updating learning rate to 2.5e-05\n",
            "\titers: 100, epoch: 4 | loss: 0.3822013\n",
            "\tspeed: 0.7690s/iter; left time: 1345.0420s\n",
            "\titers: 200, epoch: 4 | loss: 0.3906613\n",
            "\tspeed: 0.0764s/iter; left time: 126.0179s\n",
            "Epoch: 4 cost time: 20.205097198486328\n",
            "Epoch: 4, Steps: 264 | Train Loss: 0.3692231 Vali Loss: 0.7790999 Test Loss: 0.3895922\n",
            "Validation loss decreased (0.786402 --> 0.779100).  Saving model ...\n",
            "Updating learning rate to 1.25e-05\n",
            "\titers: 100, epoch: 5 | loss: 0.3563367\n",
            "\tspeed: 0.7739s/iter; left time: 1149.2974s\n",
            "\titers: 200, epoch: 5 | loss: 0.3738444\n",
            "\tspeed: 0.0806s/iter; left time: 111.6642s\n",
            "Epoch: 5 cost time: 21.62784695625305\n",
            "Epoch: 5, Steps: 264 | Train Loss: 0.3655212 Vali Loss: 0.7778984 Test Loss: 0.3892586\n",
            "Validation loss decreased (0.779100 --> 0.777898).  Saving model ...\n",
            "Updating learning rate to 6.25e-06\n",
            "\titers: 100, epoch: 6 | loss: 0.3714158\n",
            "\tspeed: 0.7735s/iter; left time: 944.4457s\n",
            "\titers: 200, epoch: 6 | loss: 0.3747177\n",
            "\tspeed: 0.0806s/iter; left time: 90.3171s\n",
            "Epoch: 6 cost time: 21.596028089523315\n",
            "Epoch: 6, Steps: 264 | Train Loss: 0.3638014 Vali Loss: 0.7769579 Test Loss: 0.3890988\n",
            "Validation loss decreased (0.777898 --> 0.776958).  Saving model ...\n",
            "Updating learning rate to 3.125e-06\n",
            "\titers: 100, epoch: 7 | loss: 0.4109776\n",
            "\tspeed: 0.7968s/iter; left time: 762.5752s\n",
            "\titers: 200, epoch: 7 | loss: 0.3195277\n",
            "\tspeed: 0.0841s/iter; left time: 72.0884s\n",
            "Epoch: 7 cost time: 22.113773345947266\n",
            "Epoch: 7, Steps: 264 | Train Loss: 0.3627886 Vali Loss: 0.7762523 Test Loss: 0.3890647\n",
            "Validation loss decreased (0.776958 --> 0.776252).  Saving model ...\n",
            "Updating learning rate to 1.5625e-06\n",
            "\titers: 100, epoch: 8 | loss: 0.3242012\n",
            "\tspeed: 0.7767s/iter; left time: 538.2277s\n",
            "\titers: 200, epoch: 8 | loss: 0.3192098\n",
            "\tspeed: 0.0824s/iter; left time: 48.8658s\n",
            "Epoch: 8 cost time: 22.083166360855103\n",
            "Epoch: 8, Steps: 264 | Train Loss: 0.3624944 Vali Loss: 0.7759658 Test Loss: 0.3890536\n",
            "Validation loss decreased (0.776252 --> 0.775966).  Saving model ...\n",
            "Updating learning rate to 7.8125e-07\n",
            "\titers: 100, epoch: 9 | loss: 0.3794389\n",
            "\tspeed: 0.7834s/iter; left time: 336.0817s\n",
            "\titers: 200, epoch: 9 | loss: 0.3624063\n",
            "\tspeed: 0.0824s/iter; left time: 27.1077s\n",
            "Epoch: 9 cost time: 22.031124591827393\n",
            "Epoch: 9, Steps: 264 | Train Loss: 0.3622934 Vali Loss: 0.7755650 Test Loss: 0.3890217\n",
            "Validation loss decreased (0.775966 --> 0.775565).  Saving model ...\n",
            "Updating learning rate to 3.90625e-07\n",
            "\titers: 100, epoch: 10 | loss: 0.3804833\n",
            "\tspeed: 0.7854s/iter; left time: 129.5915s\n",
            "\titers: 200, epoch: 10 | loss: 0.4617477\n",
            "\tspeed: 0.0819s/iter; left time: 5.3218s\n",
            "Epoch: 10 cost time: 22.17237401008606\n",
            "Epoch: 10, Steps: 264 | Train Loss: 0.3620599 Vali Loss: 0.7758138 Test Loss: 0.3890043\n",
            "EarlyStopping counter: 1 out of 3\n",
            "Updating learning rate to 1.953125e-07\n",
            ">>>>>>>testing : long_term_forecast_ETTh1_96_96_TimesNet_ETTh1_ftM_sl96_ll48_pl96_dm16_nh8_el2_dl1_df32_fc3_ebtimeF_dtTrue_Exp_0<<<<<<<<<<<<<<<<<<<<<<<<<<<<<<<<<\n",
            "test 2785\n",
            "test shape: (2785, 1, 96, 7) (2785, 1, 96, 7)\n",
            "test shape: (2785, 96, 7) (2785, 96, 7)\n",
            "mse:0.38902172446250916, mae:0.4120224714279175\n",
            "Args in experiment:\n",
            "\u001b[1mBasic Config\u001b[0m\n",
            "  Task Name:          long_term_forecast  Is Training:        1                   \n",
            "  Model ID:           ETTh1_96_192        Model:              TimesNet            \n",
            "\n",
            "\u001b[1mData Loader\u001b[0m\n",
            "  Data:               ETTh1               Root Path:          ./dataset/ETT-small/\n",
            "  Data Path:          ETTh1.csv           Features:           M                   \n",
            "  Target:             OT                  Freq:               h                   \n",
            "  Checkpoints:        ./checkpoints/      \n",
            "\n",
            "\u001b[1mForecasting Task\u001b[0m\n",
            "  Seq Len:            96                  Label Len:          48                  \n",
            "  Pred Len:           192                 Seasonal Patterns:  Monthly             \n",
            "  Inverse:            0                   \n",
            "\n",
            "\u001b[1mModel Parameters\u001b[0m\n",
            "  Top k:              5                   Num Kernels:        6                   \n",
            "  Enc In:             7                   Dec In:             7                   \n",
            "  C Out:              7                   d model:            16                  \n",
            "  n heads:            8                   e layers:           2                   \n",
            "  d layers:           1                   d FF:               32                  \n",
            "  Moving Avg:         25                  Factor:             3                   \n",
            "  Distil:             1                   Dropout:            0.1                 \n",
            "  Embed:              timeF               Activation:         gelu                \n",
            "  Output Attention:   0                   \n",
            "\n",
            "\u001b[1mRun Parameters\u001b[0m\n",
            "  Num Workers:        10                  Itr:                1                   \n",
            "  Train Epochs:       10                  Batch Size:         32                  \n",
            "  Patience:           3                   Learning Rate:      0.0001              \n",
            "  Des:                Exp                 Loss:               MSE                 \n",
            "  Lradj:              type1               Use Amp:            0                   \n",
            "\n",
            "\u001b[1mGPU\u001b[0m\n",
            "  Use GPU:            1                   GPU:                0                   \n",
            "  Use Multi GPU:      0                   Devices:            0,1,2,3             \n",
            "\n",
            "\u001b[1mDe-stationary Projector Params\u001b[0m\n",
            "  P Hidden Dims:      128, 128            P Hidden Layers:    2                   \n",
            "\n",
            "Use GPU: cuda:0\n",
            ">>>>>>>start training : long_term_forecast_ETTh1_96_192_TimesNet_ETTh1_ftM_sl96_ll48_pl192_dm16_nh8_el2_dl1_df32_fc3_ebtimeF_dtTrue_Exp_0>>>>>>>>>>>>>>>>>>>>>>>>>>\n",
            "train 8353\n",
            "val 2689\n",
            "test 2689\n",
            "\titers: 100, epoch: 1 | loss: 0.6326401\n",
            "\tspeed: 0.2169s/iter; left time: 544.5374s\n",
            "\titers: 200, epoch: 1 | loss: 0.4650712\n",
            "\tspeed: 0.0881s/iter; left time: 212.4688s\n",
            "Epoch: 1 cost time: 35.82775092124939\n",
            "Epoch: 1, Steps: 261 | Train Loss: 0.5438783 Vali Loss: 1.1360915 Test Loss: 0.4997279\n",
            "Validation loss decreased (inf --> 1.136091).  Saving model ...\n",
            "Updating learning rate to 0.0001\n",
            "\titers: 100, epoch: 2 | loss: 0.4568882\n",
            "\tspeed: 0.7521s/iter; left time: 1692.3206s\n",
            "\titers: 200, epoch: 2 | loss: 0.4773217\n",
            "\tspeed: 0.0869s/iter; left time: 186.9417s\n",
            "Epoch: 2 cost time: 23.489185571670532\n",
            "Epoch: 2, Steps: 261 | Train Loss: 0.4538496 Vali Loss: 1.0898060 Test Loss: 0.4467469\n",
            "Validation loss decreased (1.136091 --> 1.089806).  Saving model ...\n",
            "Updating learning rate to 5e-05\n",
            "\titers: 100, epoch: 3 | loss: 0.4164383\n",
            "\tspeed: 0.7574s/iter; left time: 1506.4789s\n",
            "\titers: 200, epoch: 3 | loss: 0.4380731\n",
            "\tspeed: 0.0895s/iter; left time: 169.0404s\n",
            "Epoch: 3 cost time: 23.553468942642212\n",
            "Epoch: 3, Steps: 261 | Train Loss: 0.4295127 Vali Loss: 1.0650549 Test Loss: 0.4414552\n",
            "Validation loss decreased (1.089806 --> 1.065055).  Saving model ...\n",
            "Updating learning rate to 2.5e-05\n",
            "\titers: 100, epoch: 4 | loss: 0.4532978\n",
            "\tspeed: 0.7486s/iter; left time: 1293.6386s\n",
            "\titers: 200, epoch: 4 | loss: 0.3980016\n",
            "\tspeed: 0.0897s/iter; left time: 146.0718s\n",
            "Epoch: 4 cost time: 23.630313873291016\n",
            "Epoch: 4, Steps: 261 | Train Loss: 0.4196327 Vali Loss: 1.0576204 Test Loss: 0.4404671\n",
            "Validation loss decreased (1.065055 --> 1.057620).  Saving model ...\n",
            "Updating learning rate to 1.25e-05\n",
            "\titers: 100, epoch: 5 | loss: 0.4247273\n",
            "\tspeed: 0.7707s/iter; left time: 1130.6401s\n",
            "\titers: 200, epoch: 5 | loss: 0.3900879\n",
            "\tspeed: 0.0878s/iter; left time: 120.0164s\n",
            "Epoch: 5 cost time: 23.900904893875122\n",
            "Epoch: 5, Steps: 261 | Train Loss: 0.4147778 Vali Loss: 1.0584238 Test Loss: 0.4402863\n",
            "EarlyStopping counter: 1 out of 3\n",
            "Updating learning rate to 6.25e-06\n",
            "\titers: 100, epoch: 6 | loss: 0.4060194\n",
            "\tspeed: 0.7321s/iter; left time: 882.9693s\n",
            "\titers: 200, epoch: 6 | loss: 0.4094987\n",
            "\tspeed: 0.0876s/iter; left time: 96.9301s\n",
            "Epoch: 6 cost time: 23.30934453010559\n",
            "Epoch: 6, Steps: 261 | Train Loss: 0.4120772 Vali Loss: 1.0570799 Test Loss: 0.4394972\n",
            "Validation loss decreased (1.057620 --> 1.057080).  Saving model ...\n",
            "Updating learning rate to 3.125e-06\n",
            "\titers: 100, epoch: 7 | loss: 0.4461347\n",
            "\tspeed: 0.7266s/iter; left time: 686.6255s\n",
            "\titers: 200, epoch: 7 | loss: 0.3412185\n",
            "\tspeed: 0.0884s/iter; left time: 74.6991s\n",
            "Epoch: 7 cost time: 23.377760648727417\n",
            "Epoch: 7, Steps: 261 | Train Loss: 0.4108059 Vali Loss: 1.0578794 Test Loss: 0.4393331\n",
            "EarlyStopping counter: 1 out of 3\n",
            "Updating learning rate to 1.5625e-06\n",
            "\titers: 100, epoch: 8 | loss: 0.4441566\n",
            "\tspeed: 0.7289s/iter; left time: 498.5570s\n",
            "\titers: 200, epoch: 8 | loss: 0.3188086\n",
            "\tspeed: 0.0871s/iter; left time: 50.8470s\n",
            "Epoch: 8 cost time: 23.343279361724854\n",
            "Epoch: 8, Steps: 261 | Train Loss: 0.4101230 Vali Loss: 1.0573733 Test Loss: 0.4397091\n",
            "EarlyStopping counter: 2 out of 3\n",
            "Updating learning rate to 7.8125e-07\n",
            "\titers: 100, epoch: 9 | loss: 0.4617977\n",
            "\tspeed: 0.7269s/iter; left time: 307.4868s\n",
            "\titers: 200, epoch: 9 | loss: 0.3475019\n",
            "\tspeed: 0.0875s/iter; left time: 28.2681s\n",
            "Epoch: 9 cost time: 23.41746425628662\n",
            "Epoch: 9, Steps: 261 | Train Loss: 0.4098497 Vali Loss: 1.0568595 Test Loss: 0.4398646\n",
            "Validation loss decreased (1.057080 --> 1.056859).  Saving model ...\n",
            "Updating learning rate to 3.90625e-07\n",
            "\titers: 100, epoch: 10 | loss: 0.4083584\n",
            "\tspeed: 0.7247s/iter; left time: 117.3962s\n",
            "\titers: 200, epoch: 10 | loss: 0.4401632\n",
            "\tspeed: 0.0865s/iter; left time: 5.3606s\n",
            "Epoch: 10 cost time: 23.312618017196655\n",
            "Epoch: 10, Steps: 261 | Train Loss: 0.4095778 Vali Loss: 1.0570307 Test Loss: 0.4398324\n",
            "EarlyStopping counter: 1 out of 3\n",
            "Updating learning rate to 1.953125e-07\n",
            ">>>>>>>testing : long_term_forecast_ETTh1_96_192_TimesNet_ETTh1_ftM_sl96_ll48_pl192_dm16_nh8_el2_dl1_df32_fc3_ebtimeF_dtTrue_Exp_0<<<<<<<<<<<<<<<<<<<<<<<<<<<<<<<<<\n",
            "test 2689\n",
            "test shape: (2689, 1, 192, 7) (2689, 1, 192, 7)\n",
            "test shape: (2689, 192, 7) (2689, 192, 7)\n",
            "mse:0.43986472487449646, mae:0.44239386916160583\n",
            "Args in experiment:\n",
            "\u001b[1mBasic Config\u001b[0m\n",
            "  Task Name:          long_term_forecast  Is Training:        1                   \n",
            "  Model ID:           ETTh1_96_336        Model:              TimesNet            \n",
            "\n",
            "\u001b[1mData Loader\u001b[0m\n",
            "  Data:               ETTh1               Root Path:          ./dataset/ETT-small/\n",
            "  Data Path:          ETTh1.csv           Features:           M                   \n",
            "  Target:             OT                  Freq:               h                   \n",
            "  Checkpoints:        ./checkpoints/      \n",
            "\n",
            "\u001b[1mForecasting Task\u001b[0m\n",
            "  Seq Len:            96                  Label Len:          48                  \n",
            "  Pred Len:           336                 Seasonal Patterns:  Monthly             \n",
            "  Inverse:            0                   \n",
            "\n",
            "\u001b[1mModel Parameters\u001b[0m\n",
            "  Top k:              5                   Num Kernels:        6                   \n",
            "  Enc In:             7                   Dec In:             7                   \n",
            "  C Out:              7                   d model:            16                  \n",
            "  n heads:            8                   e layers:           2                   \n",
            "  d layers:           1                   d FF:               32                  \n",
            "  Moving Avg:         25                  Factor:             3                   \n",
            "  Distil:             1                   Dropout:            0.1                 \n",
            "  Embed:              timeF               Activation:         gelu                \n",
            "  Output Attention:   0                   \n",
            "\n",
            "\u001b[1mRun Parameters\u001b[0m\n",
            "  Num Workers:        10                  Itr:                1                   \n",
            "  Train Epochs:       10                  Batch Size:         32                  \n",
            "  Patience:           3                   Learning Rate:      0.0001              \n",
            "  Des:                Exp                 Loss:               MSE                 \n",
            "  Lradj:              type1               Use Amp:            0                   \n",
            "\n",
            "\u001b[1mGPU\u001b[0m\n",
            "  Use GPU:            1                   GPU:                0                   \n",
            "  Use Multi GPU:      0                   Devices:            0,1,2,3             \n",
            "\n",
            "\u001b[1mDe-stationary Projector Params\u001b[0m\n",
            "  P Hidden Dims:      128, 128            P Hidden Layers:    2                   \n",
            "\n",
            "Use GPU: cuda:0\n",
            ">>>>>>>start training : long_term_forecast_ETTh1_96_336_TimesNet_ETTh1_ftM_sl96_ll48_pl336_dm16_nh8_el2_dl1_df32_fc3_ebtimeF_dtTrue_Exp_0>>>>>>>>>>>>>>>>>>>>>>>>>>\n",
            "train 8209\n",
            "val 2545\n",
            "test 2545\n",
            "\titers: 100, epoch: 1 | loss: 0.6518378\n",
            "\tspeed: 0.3026s/iter; left time: 744.5947s\n",
            "\titers: 200, epoch: 1 | loss: 0.5817339\n",
            "\tspeed: 0.1738s/iter; left time: 410.2255s\n",
            "Epoch: 1 cost time: 55.2185320854187\n",
            "Epoch: 1, Steps: 256 | Train Loss: 0.6239787 Vali Loss: 1.3903103 Test Loss: 0.5224239\n",
            "Validation loss decreased (inf --> 1.390310).  Saving model ...\n",
            "Updating learning rate to 0.0001\n",
            "\titers: 100, epoch: 2 | loss: 0.5308887\n",
            "\tspeed: 0.8137s/iter; left time: 1794.3100s\n",
            "\titers: 200, epoch: 2 | loss: 0.5972592\n",
            "\tspeed: 0.1319s/iter; left time: 277.5908s\n",
            "Epoch: 2 cost time: 34.38251829147339\n",
            "Epoch: 2, Steps: 256 | Train Loss: 0.5136314 Vali Loss: 1.3872739 Test Loss: 0.4959304\n",
            "Validation loss decreased (1.390310 --> 1.387274).  Saving model ...\n",
            "Updating learning rate to 5e-05\n",
            "\titers: 100, epoch: 3 | loss: 0.4757054\n",
            "\tspeed: 0.8071s/iter; left time: 1573.0866s\n",
            "\titers: 200, epoch: 3 | loss: 0.4510171\n",
            "\tspeed: 0.1171s/iter; left time: 216.5284s\n",
            "Epoch: 3 cost time: 30.952584505081177\n",
            "Epoch: 3, Steps: 256 | Train Loss: 0.4978249 Vali Loss: 1.3909864 Test Loss: 0.4855417\n",
            "EarlyStopping counter: 1 out of 3\n",
            "Updating learning rate to 2.5e-05\n",
            "\titers: 100, epoch: 4 | loss: 0.5253330\n",
            "\tspeed: 0.7919s/iter; left time: 1340.6984s\n",
            "\titers: 200, epoch: 4 | loss: 0.4775371\n",
            "\tspeed: 0.1141s/iter; left time: 181.8198s\n",
            "Epoch: 4 cost time: 29.819464683532715\n",
            "Epoch: 4, Steps: 256 | Train Loss: 0.4885579 Vali Loss: 1.3920658 Test Loss: 0.4833892\n",
            "EarlyStopping counter: 2 out of 3\n",
            "Updating learning rate to 1.25e-05\n",
            "\titers: 100, epoch: 5 | loss: 0.5219994\n",
            "\tspeed: 0.7868s/iter; left time: 1130.5822s\n",
            "\titers: 200, epoch: 5 | loss: 0.4739352\n",
            "\tspeed: 0.1141s/iter; left time: 152.5309s\n",
            "Epoch: 5 cost time: 29.738483905792236\n",
            "Epoch: 5, Steps: 256 | Train Loss: 0.4836445 Vali Loss: 1.3932868 Test Loss: 0.4805876\n",
            "EarlyStopping counter: 3 out of 3\n",
            "Early stopping\n",
            ">>>>>>>testing : long_term_forecast_ETTh1_96_336_TimesNet_ETTh1_ftM_sl96_ll48_pl336_dm16_nh8_el2_dl1_df32_fc3_ebtimeF_dtTrue_Exp_0<<<<<<<<<<<<<<<<<<<<<<<<<<<<<<<<<\n",
            "test 2545\n",
            "test shape: (2545, 1, 336, 7) (2545, 1, 336, 7)\n",
            "test shape: (2545, 336, 7) (2545, 336, 7)\n",
            "mse:0.49593034386634827, mae:0.47157078981399536\n",
            "Args in experiment:\n",
            "\u001b[1mBasic Config\u001b[0m\n",
            "  Task Name:          long_term_forecast  Is Training:        1                   \n",
            "  Model ID:           ETTh1_96_720        Model:              TimesNet            \n",
            "\n",
            "\u001b[1mData Loader\u001b[0m\n",
            "  Data:               ETTh1               Root Path:          ./dataset/ETT-small/\n",
            "  Data Path:          ETTh1.csv           Features:           M                   \n",
            "  Target:             OT                  Freq:               h                   \n",
            "  Checkpoints:        ./checkpoints/      \n",
            "\n",
            "\u001b[1mForecasting Task\u001b[0m\n",
            "  Seq Len:            96                  Label Len:          48                  \n",
            "  Pred Len:           720                 Seasonal Patterns:  Monthly             \n",
            "  Inverse:            0                   \n",
            "\n",
            "\u001b[1mModel Parameters\u001b[0m\n",
            "  Top k:              5                   Num Kernels:        6                   \n",
            "  Enc In:             7                   Dec In:             7                   \n",
            "  C Out:              7                   d model:            16                  \n",
            "  n heads:            8                   e layers:           2                   \n",
            "  d layers:           1                   d FF:               32                  \n",
            "  Moving Avg:         25                  Factor:             3                   \n",
            "  Distil:             1                   Dropout:            0.1                 \n",
            "  Embed:              timeF               Activation:         gelu                \n",
            "  Output Attention:   0                   \n",
            "\n",
            "\u001b[1mRun Parameters\u001b[0m\n",
            "  Num Workers:        10                  Itr:                1                   \n",
            "  Train Epochs:       10                  Batch Size:         32                  \n",
            "  Patience:           3                   Learning Rate:      0.0001              \n",
            "  Des:                Exp                 Loss:               MSE                 \n",
            "  Lradj:              type1               Use Amp:            0                   \n",
            "\n",
            "\u001b[1mGPU\u001b[0m\n",
            "  Use GPU:            1                   GPU:                0                   \n",
            "  Use Multi GPU:      0                   Devices:            0,1,2,3             \n",
            "\n",
            "\u001b[1mDe-stationary Projector Params\u001b[0m\n",
            "  P Hidden Dims:      128, 128            P Hidden Layers:    2                   \n",
            "\n",
            "Use GPU: cuda:0\n",
            ">>>>>>>start training : long_term_forecast_ETTh1_96_720_TimesNet_ETTh1_ftM_sl96_ll48_pl720_dm16_nh8_el2_dl1_df32_fc3_ebtimeF_dtTrue_Exp_0>>>>>>>>>>>>>>>>>>>>>>>>>>\n",
            "train 7825\n",
            "val 2161\n",
            "test 2161\n",
            "\titers: 100, epoch: 1 | loss: 0.7950850\n",
            "\tspeed: 0.4439s/iter; left time: 1039.2682s\n",
            "\titers: 200, epoch: 1 | loss: 0.5680417\n",
            "\tspeed: 0.2314s/iter; left time: 518.5569s\n",
            "Epoch: 1 cost time: 77.66292572021484\n",
            "Epoch: 1, Steps: 244 | Train Loss: 0.7310660 Vali Loss: 1.6461239 Test Loss: 0.5399331\n",
            "Validation loss decreased (inf --> 1.646124).  Saving model ...\n",
            "Updating learning rate to 0.0001\n",
            "\titers: 100, epoch: 2 | loss: 0.6694896\n",
            "\tspeed: 0.8945s/iter; left time: 1875.7096s\n",
            "\titers: 200, epoch: 2 | loss: 0.6175399\n",
            "\tspeed: 0.2394s/iter; left time: 478.1479s\n",
            "Epoch: 2 cost time: 59.524574279785156\n",
            "Epoch: 2, Steps: 244 | Train Loss: 0.6237532 Vali Loss: 1.6207992 Test Loss: 0.5189319\n",
            "Validation loss decreased (1.646124 --> 1.620799).  Saving model ...\n",
            "Updating learning rate to 5e-05\n",
            "\titers: 100, epoch: 3 | loss: 0.6442505\n",
            "\tspeed: 0.9524s/iter; left time: 1764.7906s\n",
            "\titers: 200, epoch: 3 | loss: 0.5751246\n",
            "\tspeed: 0.2371s/iter; left time: 415.5846s\n",
            "Epoch: 3 cost time: 60.273096323013306\n",
            "Epoch: 3, Steps: 244 | Train Loss: 0.6036443 Vali Loss: 1.6487404 Test Loss: 0.5167811\n",
            "EarlyStopping counter: 1 out of 3\n",
            "Updating learning rate to 2.5e-05\n",
            "\titers: 100, epoch: 4 | loss: 0.5637223\n",
            "\tspeed: 0.9180s/iter; left time: 1477.0627s\n",
            "\titers: 200, epoch: 4 | loss: 0.5305828\n",
            "\tspeed: 0.2318s/iter; left time: 349.7701s\n",
            "Epoch: 4 cost time: 56.38261008262634\n",
            "Epoch: 4, Steps: 244 | Train Loss: 0.5947505 Vali Loss: 1.6606028 Test Loss: 0.5176806\n",
            "EarlyStopping counter: 2 out of 3\n",
            "Updating learning rate to 1.25e-05\n",
            "\titers: 100, epoch: 5 | loss: 0.5349286\n",
            "\tspeed: 0.8999s/iter; left time: 1228.3448s\n",
            "\titers: 200, epoch: 5 | loss: 0.5926715\n",
            "\tspeed: 0.2319s/iter; left time: 293.3426s\n",
            "Epoch: 5 cost time: 56.20874571800232\n",
            "Epoch: 5, Steps: 244 | Train Loss: 0.5908428 Vali Loss: 1.6649398 Test Loss: 0.5210469\n",
            "EarlyStopping counter: 3 out of 3\n",
            "Early stopping\n",
            ">>>>>>>testing : long_term_forecast_ETTh1_96_720_TimesNet_ETTh1_ftM_sl96_ll48_pl720_dm16_nh8_el2_dl1_df32_fc3_ebtimeF_dtTrue_Exp_0<<<<<<<<<<<<<<<<<<<<<<<<<<<<<<<<<\n",
            "test 2161\n",
            "test shape: (2161, 1, 720, 7) (2161, 1, 720, 7)\n",
            "test shape: (2161, 720, 7) (2161, 720, 7)\n",
            "mse:0.5189322829246521, mae:0.4949883222579956\n"
          ]
        }
      ]
    },
    {
      "cell_type": "code",
      "execution_count": null,
      "metadata": {
        "vscode": {
          "languageId": "plaintext"
        },
        "colab": {
          "base_uri": "https://localhost:8080/",
          "height": 238
        },
        "id": "YuR8TFrb9D6d",
        "outputId": "b7c5ddd4-ce27-480e-f221-a599890f998c"
      },
      "outputs": [
        {
          "output_type": "error",
          "ename": "SyntaxError",
          "evalue": "invalid syntax (<ipython-input-56-6d2b03b901df>, line 2)",
          "traceback": [
            "\u001b[0;31m---------------------------------------------------------------------------\u001b[0m",
            "\u001b[0;31mSyntaxError\u001b[0m                               Traceback (most recent call last)",
            "\u001b[0;32m/usr/local/lib/python3.10/dist-packages/IPython/core/compilerop.py\u001b[0m in \u001b[0;36mast_parse\u001b[0;34m(self, source, filename, symbol)\u001b[0m\n\u001b[1;32m     99\u001b[0m         \u001b[0mArguments\u001b[0m \u001b[0mare\u001b[0m \u001b[0mexactly\u001b[0m \u001b[0mthe\u001b[0m \u001b[0msame\u001b[0m \u001b[0;32mas\u001b[0m \u001b[0mast\u001b[0m\u001b[0;34m.\u001b[0m\u001b[0mparse\u001b[0m \u001b[0;34m(\u001b[0m\u001b[0;32min\u001b[0m \u001b[0mthe\u001b[0m \u001b[0mstandard\u001b[0m \u001b[0mlibrary\u001b[0m\u001b[0;34m)\u001b[0m\u001b[0;34m,\u001b[0m\u001b[0;34m\u001b[0m\u001b[0;34m\u001b[0m\u001b[0m\n\u001b[1;32m    100\u001b[0m         and are passed to the built-in compile function.\"\"\"\n\u001b[0;32m--> 101\u001b[0;31m         \u001b[0;32mreturn\u001b[0m \u001b[0mcompile\u001b[0m\u001b[0;34m(\u001b[0m\u001b[0msource\u001b[0m\u001b[0;34m,\u001b[0m \u001b[0mfilename\u001b[0m\u001b[0;34m,\u001b[0m \u001b[0msymbol\u001b[0m\u001b[0;34m,\u001b[0m \u001b[0mself\u001b[0m\u001b[0;34m.\u001b[0m\u001b[0mflags\u001b[0m \u001b[0;34m|\u001b[0m \u001b[0mPyCF_ONLY_AST\u001b[0m\u001b[0;34m,\u001b[0m \u001b[0;36m1\u001b[0m\u001b[0;34m)\u001b[0m\u001b[0;34m\u001b[0m\u001b[0;34m\u001b[0m\u001b[0m\n\u001b[0m\u001b[1;32m    102\u001b[0m \u001b[0;34m\u001b[0m\u001b[0m\n\u001b[1;32m    103\u001b[0m     \u001b[0;32mdef\u001b[0m \u001b[0mreset_compiler_flags\u001b[0m\u001b[0;34m(\u001b[0m\u001b[0mself\u001b[0m\u001b[0;34m)\u001b[0m\u001b[0;34m:\u001b[0m\u001b[0;34m\u001b[0m\u001b[0;34m\u001b[0m\u001b[0m\n",
            "\u001b[0;31mSyntaxError\u001b[0m: invalid syntax (<ipython-input-56-6d2b03b901df>, line 2)"
          ]
        }
      ],
      "source": [
        "Namespace(task_name='long_term_forecast', is_training=1, model_id='ETTh1_96_96', model='TimesNet', data='ETTh1', root_path='./dataset/ETT-small/', data_path='ETTh1.csv', features='M', target='OT', freq='h', checkpoints='./checkpoints/', seq_len=96, label_len=48, pred_len=96, seasonal_patterns='Monthly', inverse=False, mask_rate=0.25, anomaly_ratio=0.25, top_k=5, num_kernels=6, enc_in=7, dec_in=7, c_out=7, d_model=16, n_heads=8, e_layers=2, d_layers=1, d_ff=32, moving_avg=25, factor=3, distil=True, dropout=0.1, embed='timeF', activation='gelu', output_attention=False, num_workers=10, itr=1, train_epochs=10, batch_size=32, patience=3, learning_rate=0.0001, des='Exp', loss='MSE', lradj='type1', use_amp=False, use_gpu=False, gpu=0, use_multi_gpu=False, devices='0,1,2,3', p_hidden_dims=[128, 128], p_hidden_layers=2)\n",
        "Use GPU: cuda:0\n",
        ">>>>>>>start training : long_term_forecast_ETTh1_96_96_TimesNet_ETTh1_ftM_sl96_ll48_pl96_dm16_nh8_el2_dl1_df32_fc3_ebtimeF_dtTrue_Exp_0>>>>>>>>>>>>>>>>>>>>>>>>>>\n",
        "train 8449\n",
        "val 2785\n",
        "test 2785"
      ]
    },
    {
      "cell_type": "markdown",
      "metadata": {
        "id": "0WiWUKlt9D6d"
      },
      "source": [
        "Then, the model starts training. Once one epoch finishes training, information like below will be printer out："
      ]
    },
    {
      "cell_type": "code",
      "execution_count": null,
      "metadata": {
        "vscode": {
          "languageId": "plaintext"
        },
        "colab": {
          "base_uri": "https://localhost:8080/",
          "height": 263
        },
        "id": "q5G7EQ4z9D6d",
        "outputId": "7c9bf039-a28e-4e8d-cb33-b6935f506279"
      },
      "outputs": [
        {
          "output_type": "error",
          "ename": "SyntaxError",
          "evalue": "invalid decimal literal (<ipython-input-83-fed76c52120a>, line 2)",
          "traceback": [
            "\u001b[0;31m---------------------------------------------------------------------------\u001b[0m",
            "\u001b[0;31mSyntaxError\u001b[0m                               Traceback (most recent call last)",
            "\u001b[0;32m/usr/local/lib/python3.10/dist-packages/IPython/core/compilerop.py\u001b[0m in \u001b[0;36mast_parse\u001b[0;34m(self, source, filename, symbol)\u001b[0m\n\u001b[1;32m     99\u001b[0m         \u001b[0mArguments\u001b[0m \u001b[0mare\u001b[0m \u001b[0mexactly\u001b[0m \u001b[0mthe\u001b[0m \u001b[0msame\u001b[0m \u001b[0;32mas\u001b[0m \u001b[0mast\u001b[0m\u001b[0;34m.\u001b[0m\u001b[0mparse\u001b[0m \u001b[0;34m(\u001b[0m\u001b[0;32min\u001b[0m \u001b[0mthe\u001b[0m \u001b[0mstandard\u001b[0m \u001b[0mlibrary\u001b[0m\u001b[0;34m)\u001b[0m\u001b[0;34m,\u001b[0m\u001b[0;34m\u001b[0m\u001b[0;34m\u001b[0m\u001b[0m\n\u001b[1;32m    100\u001b[0m         and are passed to the built-in compile function.\"\"\"\n\u001b[0;32m--> 101\u001b[0;31m         \u001b[0;32mreturn\u001b[0m \u001b[0mcompile\u001b[0m\u001b[0;34m(\u001b[0m\u001b[0msource\u001b[0m\u001b[0;34m,\u001b[0m \u001b[0mfilename\u001b[0m\u001b[0;34m,\u001b[0m \u001b[0msymbol\u001b[0m\u001b[0;34m,\u001b[0m \u001b[0mself\u001b[0m\u001b[0;34m.\u001b[0m\u001b[0mflags\u001b[0m \u001b[0;34m|\u001b[0m \u001b[0mPyCF_ONLY_AST\u001b[0m\u001b[0;34m,\u001b[0m \u001b[0;36m1\u001b[0m\u001b[0;34m)\u001b[0m\u001b[0;34m\u001b[0m\u001b[0;34m\u001b[0m\u001b[0m\n\u001b[0m\u001b[1;32m    102\u001b[0m \u001b[0;34m\u001b[0m\u001b[0m\n\u001b[1;32m    103\u001b[0m     \u001b[0;32mdef\u001b[0m \u001b[0mreset_compiler_flags\u001b[0m\u001b[0;34m(\u001b[0m\u001b[0mself\u001b[0m\u001b[0;34m)\u001b[0m\u001b[0;34m:\u001b[0m\u001b[0;34m\u001b[0m\u001b[0;34m\u001b[0m\u001b[0m\n",
            "\u001b[0;31mSyntaxError\u001b[0m: invalid decimal literal (<ipython-input-83-fed76c52120a>, line 2)"
          ]
        }
      ],
      "source": [
        "        iters: 100, epoch: 1 | loss: 0.4701951\n",
        "        speed: 0.2108s/iter; left time: 535.7317s\n",
        "        iters: 200, epoch: 1 | loss: 0.4496171\n",
        "        speed: 0.0615s/iter; left time: 150.0223s\n",
        "Epoch: 1 cost time: 30.09317970275879\n",
        "Epoch: 1, Steps: 264 | Train Loss: 0.4964185 Vali Loss: 0.8412074 Test Loss: 0.4290483\n",
        "Validation loss decreased (inf --> 0.841207).  Saving model ...\n",
        "Updating learning rate to 0.0001"
      ]
    },
    {
      "cell_type": "markdown",
      "metadata": {
        "id": "qZDnlQ4j9D6e"
      },
      "source": [
        "When all epochs are done, the model steps into testing. The following information about testing will be printed out, giving the MAE and MSE of test."
      ]
    },
    {
      "cell_type": "code",
      "execution_count": null,
      "metadata": {
        "vscode": {
          "languageId": "plaintext"
        },
        "colab": {
          "base_uri": "https://localhost:8080/",
          "height": 263
        },
        "id": "w9eRR8VH9D6e",
        "outputId": "8d59aeb7-d543-4353-8e4d-afd2aa8453fc"
      },
      "outputs": [
        {
          "output_type": "error",
          "ename": "SyntaxError",
          "evalue": "invalid syntax (<ipython-input-84-42643e323dee>, line 1)",
          "traceback": [
            "\u001b[0;31m---------------------------------------------------------------------------\u001b[0m",
            "\u001b[0;31mSyntaxError\u001b[0m                               Traceback (most recent call last)",
            "\u001b[0;32m/usr/local/lib/python3.10/dist-packages/IPython/core/compilerop.py\u001b[0m in \u001b[0;36mast_parse\u001b[0;34m(self, source, filename, symbol)\u001b[0m\n\u001b[1;32m     99\u001b[0m         \u001b[0mArguments\u001b[0m \u001b[0mare\u001b[0m \u001b[0mexactly\u001b[0m \u001b[0mthe\u001b[0m \u001b[0msame\u001b[0m \u001b[0;32mas\u001b[0m \u001b[0mast\u001b[0m\u001b[0;34m.\u001b[0m\u001b[0mparse\u001b[0m \u001b[0;34m(\u001b[0m\u001b[0;32min\u001b[0m \u001b[0mthe\u001b[0m \u001b[0mstandard\u001b[0m \u001b[0mlibrary\u001b[0m\u001b[0;34m)\u001b[0m\u001b[0;34m,\u001b[0m\u001b[0;34m\u001b[0m\u001b[0;34m\u001b[0m\u001b[0m\n\u001b[1;32m    100\u001b[0m         and are passed to the built-in compile function.\"\"\"\n\u001b[0;32m--> 101\u001b[0;31m         \u001b[0;32mreturn\u001b[0m \u001b[0mcompile\u001b[0m\u001b[0;34m(\u001b[0m\u001b[0msource\u001b[0m\u001b[0;34m,\u001b[0m \u001b[0mfilename\u001b[0m\u001b[0;34m,\u001b[0m \u001b[0msymbol\u001b[0m\u001b[0;34m,\u001b[0m \u001b[0mself\u001b[0m\u001b[0;34m.\u001b[0m\u001b[0mflags\u001b[0m \u001b[0;34m|\u001b[0m \u001b[0mPyCF_ONLY_AST\u001b[0m\u001b[0;34m,\u001b[0m \u001b[0;36m1\u001b[0m\u001b[0;34m)\u001b[0m\u001b[0;34m\u001b[0m\u001b[0;34m\u001b[0m\u001b[0m\n\u001b[0m\u001b[1;32m    102\u001b[0m \u001b[0;34m\u001b[0m\u001b[0m\n\u001b[1;32m    103\u001b[0m     \u001b[0;32mdef\u001b[0m \u001b[0mreset_compiler_flags\u001b[0m\u001b[0;34m(\u001b[0m\u001b[0mself\u001b[0m\u001b[0;34m)\u001b[0m\u001b[0;34m:\u001b[0m\u001b[0;34m\u001b[0m\u001b[0;34m\u001b[0m\u001b[0m\n",
            "\u001b[0;31mSyntaxError\u001b[0m: invalid syntax (<ipython-input-84-42643e323dee>, line 1)"
          ]
        }
      ],
      "source": [
        ">>>>>>>testing : long_term_forecast_ETTh1_96_96_TimesNet_ETTh1_ftM_sl96_ll48_pl96_dm16_nh8_el2_dl1_df32_fc3_ebtimeF_dtTrue_Exp_0<<<<<<<<<<<<<<<<<<<<<<<<<<<<<<<<<\n",
        "test 2785\n",
        "test shape: (2785, 1, 96, 7) (2785, 1, 96, 7)\n",
        "test shape: (2785, 96, 7) (2785, 96, 7)\n",
        "mse:0.3890332877635956, mae:0.41201362013816833"
      ]
    },
    {
      "cell_type": "markdown",
      "metadata": {
        "id": "feLDUnQ39D6e"
      },
      "source": [
        "After test finishes, some visible information are already stored in the test_results folder in PDF format. For example:\n",
        "\n",
        "![result ETTm1 2440](./result.png)"
      ]
    }
  ],
  "metadata": {
    "language_info": {
      "name": "python"
    },
    "orig_nbformat": 4,
    "colab": {
      "provenance": [],
      "gpuType": "T4",
      "include_colab_link": true
    },
    "kernelspec": {
      "name": "python3",
      "display_name": "Python 3"
    },
    "accelerator": "GPU"
  },
  "nbformat": 4,
  "nbformat_minor": 0
}